{
  "nbformat": 4,
  "nbformat_minor": 0,
  "metadata": {
    "kernelspec": {
      "display_name": "Python 3",
      "language": "python",
      "name": "python3"
    },
    "language_info": {
      "codemirror_mode": {
        "name": "ipython",
        "version": 3
      },
      "file_extension": ".py",
      "mimetype": "text/x-python",
      "name": "python",
      "nbconvert_exporter": "python",
      "pygments_lexer": "ipython3",
      "version": "3.7.4"
    },
    "colab": {
      "name": "4 Матрица проверки Гипотезы о равенстве средних",
      "provenance": [],
      "collapsed_sections": [],
      "toc_visible": true,
      "include_colab_link": true
    }
  },
  "cells": [
    {
      "cell_type": "markdown",
      "metadata": {
        "id": "view-in-github",
        "colab_type": "text"
      },
      "source": [
        "<a href=\"https://colab.research.google.com/github/timmmariya/Empirical-Law-Studies/blob/main/4_%D0%9C%D0%B0%D1%82%D1%80%D0%B8%D1%86%D0%B0_%D0%BF%D1%80%D0%BE%D0%B2%D0%B5%D1%80%D0%BA%D0%B8_%D0%93%D0%B8%D0%BF%D0%BE%D1%82%D0%B5%D0%B7%D1%8B_%D0%BE_%D1%80%D0%B0%D0%B2%D0%B5%D0%BD%D1%81%D1%82%D0%B2%D0%B5_%D1%81%D1%80%D0%B5%D0%B4%D0%BD%D0%B8%D1%85.ipynb\" target=\"_parent\"><img src=\"https://colab.research.google.com/assets/colab-badge.svg\" alt=\"Open In Colab\"/></a>"
      ]
    },
    {
      "cell_type": "markdown",
      "metadata": {
        "id": "N-cOa1Gw7lt2"
      },
      "source": [
        "Представленный Colab Notebook является частью серии наработок по исследованиям в области практической оценки судопроизводства методами численного анализа, проводимых [НУЛ анализа данных правоприменения НИУ ВШЭ](https://adp.hse.ru/). \n",
        "\n",
        "Контактная информация рабочей группы: gkrasnozhenov@hse.ru (Григорий Григорьевич Красноженов, ЗавЛаб НУЛ АДП), timmariya541@gmail.com (Мария Тимонина, стажер, ответственный за текущую задачу)\n",
        "\n",
        "Материалом для анализа служат **данные системы арбитражных судов РФ**.\n",
        "\n",
        "---"
      ]
    },
    {
      "cell_type": "markdown",
      "metadata": {
        "id": "qq--F8CMMVwl"
      },
      "source": [
        "#### Стандартный пролог\n",
        "\n",
        "подключение библиотек и загрузка данных SQL-базы в pandas dataFrame"
      ]
    },
    {
      "cell_type": "code",
      "metadata": {
        "id": "7BQxPQrQoeCB"
      },
      "source": [
        "import numpy as np\n",
        "import pandas as pd\n",
        "from scipy import stats\n",
        "import matplotlib.pyplot as plt\n",
        "\n",
        "plt.style.use('ggplot') # стиль графиков\n",
        "import seaborn as sns\n",
        "%matplotlib inline"
      ],
      "execution_count": null,
      "outputs": []
    },
    {
      "cell_type": "code",
      "metadata": {
        "id": "oohGOXgDoeCN",
        "colab": {
          "base_uri": "https://localhost:8080/"
        },
        "outputId": "a8ec7720-43d6-4cf4-ab80-58b75332929b"
      },
      "source": [
        "from google.colab import drive\n",
        "drive.mount('/content/drive', force_remount=True)"
      ],
      "execution_count": null,
      "outputs": [
        {
          "output_type": "stream",
          "text": [
            "Mounted at /content/drive\n"
          ],
          "name": "stdout"
        }
      ]
    },
    {
      "cell_type": "code",
      "metadata": {
        "id": "KI6cfQg5oeCO"
      },
      "source": [
        "path = \"/content/drive/MyDrive/НУЛ АДП Материалы Марии Тимониной/_data/twenty_years_base/2015_2020_cleaned_dates.csv\"\n",
        "df = pd.read_csv(path, sep=',')"
      ],
      "execution_count": null,
      "outputs": []
    },
    {
      "cell_type": "code",
      "metadata": {
        "id": "MfVTH6K-scy5"
      },
      "source": [
        "df['StartDate'] = pd.to_datetime(df['StartDate'])\n",
        "df['FinishDate'] = pd.to_datetime(df['FinishDate'])"
      ],
      "execution_count": null,
      "outputs": []
    },
    {
      "cell_type": "code",
      "metadata": {
        "id": "-RgM6xrZhbvR"
      },
      "source": [
        "def q25(x) :\n",
        "  return x.quantile(0.25)\n",
        "\n",
        "def q75(x) :\n",
        "  return x.quantile(0.75)"
      ],
      "execution_count": null,
      "outputs": []
    },
    {
      "cell_type": "markdown",
      "metadata": {
        "id": "n_7fcS8WhB-v"
      },
      "source": [
        "### Общий вид базы"
      ]
    },
    {
      "cell_type": "code",
      "metadata": {
        "colab": {
          "base_uri": "https://localhost:8080/",
          "height": 196
        },
        "id": "W49yk2XGqEEE",
        "outputId": "45746238-6700-4899-855f-f15e7afa7904"
      },
      "source": [
        "df.head()"
      ],
      "execution_count": null,
      "outputs": [
        {
          "output_type": "execute_result",
          "data": {
            "text/html": [
              "<div>\n",
              "<style scoped>\n",
              "    .dataframe tbody tr th:only-of-type {\n",
              "        vertical-align: middle;\n",
              "    }\n",
              "\n",
              "    .dataframe tbody tr th {\n",
              "        vertical-align: top;\n",
              "    }\n",
              "\n",
              "    .dataframe thead th {\n",
              "        text-align: right;\n",
              "    }\n",
              "</style>\n",
              "<table border=\"1\" class=\"dataframe\">\n",
              "  <thead>\n",
              "    <tr style=\"text-align: right;\">\n",
              "      <th></th>\n",
              "      <th>StartDate</th>\n",
              "      <th>FinishDate</th>\n",
              "      <th>ConsidTime</th>\n",
              "      <th>CourtID</th>\n",
              "      <th>CategoryID</th>\n",
              "    </tr>\n",
              "  </thead>\n",
              "  <tbody>\n",
              "    <tr>\n",
              "      <th>0</th>\n",
              "      <td>2016-04-19</td>\n",
              "      <td>2016-08-15</td>\n",
              "      <td>118</td>\n",
              "      <td>50</td>\n",
              "      <td>77</td>\n",
              "    </tr>\n",
              "    <tr>\n",
              "      <th>1</th>\n",
              "      <td>2017-11-10</td>\n",
              "      <td>2018-05-28</td>\n",
              "      <td>199</td>\n",
              "      <td>41</td>\n",
              "      <td>20</td>\n",
              "    </tr>\n",
              "    <tr>\n",
              "      <th>2</th>\n",
              "      <td>2015-12-18</td>\n",
              "      <td>2016-08-03</td>\n",
              "      <td>229</td>\n",
              "      <td>62</td>\n",
              "      <td>4</td>\n",
              "    </tr>\n",
              "    <tr>\n",
              "      <th>3</th>\n",
              "      <td>2020-06-23</td>\n",
              "      <td>2020-10-16</td>\n",
              "      <td>115</td>\n",
              "      <td>43</td>\n",
              "      <td>151</td>\n",
              "    </tr>\n",
              "    <tr>\n",
              "      <th>4</th>\n",
              "      <td>2015-11-25</td>\n",
              "      <td>2016-01-28</td>\n",
              "      <td>64</td>\n",
              "      <td>65</td>\n",
              "      <td>4</td>\n",
              "    </tr>\n",
              "  </tbody>\n",
              "</table>\n",
              "</div>"
            ],
            "text/plain": [
              "   StartDate FinishDate  ConsidTime  CourtID  CategoryID\n",
              "0 2016-04-19 2016-08-15         118       50          77\n",
              "1 2017-11-10 2018-05-28         199       41          20\n",
              "2 2015-12-18 2016-08-03         229       62           4\n",
              "3 2020-06-23 2020-10-16         115       43         151\n",
              "4 2015-11-25 2016-01-28          64       65           4"
            ]
          },
          "metadata": {
            "tags": []
          },
          "execution_count": 10
        }
      ]
    },
    {
      "cell_type": "code",
      "metadata": {
        "id": "OrjWPeDtV_dA"
      },
      "source": [
        "df = df[df['CategoryID'] < 203]"
      ],
      "execution_count": null,
      "outputs": []
    },
    {
      "cell_type": "markdown",
      "metadata": {
        "id": "Xg0SdcUBt9tr"
      },
      "source": [
        "# **Описание задачи**"
      ]
    },
    {
      "cell_type": "markdown",
      "metadata": {
        "id": "6oQbRUN_xQB7"
      },
      "source": [
        "На более ранних этапах исследования осуществлена первичная очистка данных. Введенна классификация по списку значимых признаков. Подробнее: [предыдущий Colab Notebook](https://colab.research.google.com/drive/123fHdRPJFeiOs8FFUWg7PaFdr99uUVHu?usp=sharing)\n"
      ]
    },
    {
      "cell_type": "markdown",
      "metadata": {
        "id": "IwsUUGjDhTDa"
      },
      "source": [
        "Производится проверка Гипотезы о равенстве математических ожиданий двух произвольных распределений по выборкам большого размера (средних) попарно для выборок дел из различных категорий/судов Катотеки арбитражных дел (КАД).\n",
        "\n",
        "Выдвигается **гипотеза** $H_0: E(X) = E(Y)$. В качестве альтернативной гипотезы рассматривается $H_1: E(X) \\neq E(Y)$.\n",
        "\n",
        "Обозначим за $(x_1, \\ldots, x_n)$,  $(y_1, \\ldots, y_m)$ элементы выборок из генеральных совокупностей $X$ и $Y$. Центральная предельная теорема утверждает, разность выборочных средних $(\\overline{X_{выб}} - \\overline{Y_{выб}})$ распределена по закону, близкому к нормальному.\n",
        "\n",
        "При больших $n$ и $m$ выборочные дисперсии являются достаточно хорошими оценкам теоретических дисперсий. По свойствам дисперсии $D(\\overline{X_{выб}} - \\overline{Y_{выб}}) = \n",
        "\\dfrac{nD(X_1)}{n^2} + \\dfrac{mD(Y)}{m^2} = \\dfrac{\\sigma_X^2}{n} + \\dfrac{\\sigma_Y^2}{m}$. \n",
        "\n",
        "Если $H_0$ не отвергается, то  $E(\\overline{X_{выб}} - \\overline{Y_{выб}}) = 0$, поэтому случайная величина $K$ распределена по закону, близкому к нормальному $N(0, 1)$, и будет использоваться в качестве критерия для проверки $H_0$.\n",
        "\n",
        "$$ K = \\dfrac{\\overline{X_{выб}} - \\overline{Y_{выб}}}{\\sqrt{\\dfrac{d_{X,выб}^2}{n} + \\dfrac{d_{Y,выб}^2}{m}}}$$\n",
        "\n",
        "---\n"
      ]
    },
    {
      "cell_type": "code",
      "metadata": {
        "id": "LWwfJKVSYAzl"
      },
      "source": [
        "def K_value(categ1, categ2, df_work) :\n",
        "    mean1 = df_work.at[categ1, 'mean']\n",
        "    mean2 = df_work.at[categ2, 'mean']\n",
        "\n",
        "    std1 = df_work.at[categ1, 'std']\n",
        "    std2 = df_work.at[categ2, 'std']\n",
        "\n",
        "    n1 = df_work.at[categ1, 'count']\n",
        "    n2 = df_work.at[categ2, 'count']\n",
        "\n",
        "    k = (mean1 - mean2) / np.sqrt(std1 * std1 / n1 + std2 * std2 / n2)\n",
        "    return k"
      ],
      "execution_count": null,
      "outputs": []
    },
    {
      "cell_type": "markdown",
      "metadata": {
        "id": "juzjp1IHWbDR"
      },
      "source": [
        "**Построение критических областей**\n",
        "\n",
        "Используется двусторонняя критическая область, состоящая из двух интервалов $(-\\infty; X_{left, \\alpha/2} := A)$ и $(X_{right, \\alpha/2} := B; +\\infty)$, где критические точки определяются из условия:\n",
        "$$ P(N(0,1) <  A) = \\dfrac{\\alpha}{2}, P(N(0,1) >  B) = \\dfrac{\\alpha}{2}$$\n",
        "\n",
        "Если вычисленное по выборке значение критерия $K$ попадает на отрезок $(A, B)$, то рассматривается гипотеза $H_0$. Если же оно принадлежит одному из двух крайних интервалов, то гипотеза отвергается на уровне значимости $\\alpha$, уступая $H_1$. \n",
        "\n",
        "Поскольку плотность стандартного нормального распределения симметрична относительно нуля, про точки А и В известно, что $B = -A$. Гипотеза не отвергается с надежностью $(1 - \\alpha)$, когда:\n",
        "\n",
        "$$ P(A < N(0,1) <  B) = F(B) - F(-B) = 2F(B) = (1 - \\alpha),  \\quad\\quad \\Rightarrow \\quad\\quad F(B) = P(N(0,1) <  B) = \\dfrac{(1 - \\alpha)}{2} $$\n",
        "\n"
      ]
    },
    {
      "cell_type": "markdown",
      "metadata": {
        "id": "CWQMyPzbJWnd"
      },
      "source": [
        "# **Алгоритм разыменования кодировки названий**"
      ]
    },
    {
      "cell_type": "code",
      "metadata": {
        "id": "zgm_gTUU2rMZ",
        "colab": {
          "base_uri": "https://localhost:8080/",
          "height": 199
        },
        "outputId": "0b85a4fb-b708-413a-897d-8d0872b9db5d"
      },
      "source": [
        "pathc = \"/content/drive/MyDrive/НУЛ АДП Материалы Марии Тимониной/_data/indexed_categories.csv\"\n",
        "df_categs = pd.read_csv(pathc, sep=',')\n",
        "df_categs.tail()"
      ],
      "execution_count": null,
      "outputs": [
        {
          "output_type": "execute_result",
          "data": {
            "text/html": [
              "<div>\n",
              "<style scoped>\n",
              "    .dataframe tbody tr th:only-of-type {\n",
              "        vertical-align: middle;\n",
              "    }\n",
              "\n",
              "    .dataframe tbody tr th {\n",
              "        vertical-align: top;\n",
              "    }\n",
              "\n",
              "    .dataframe thead th {\n",
              "        text-align: right;\n",
              "    }\n",
              "</style>\n",
              "<table border=\"1\" class=\"dataframe\">\n",
              "  <thead>\n",
              "    <tr style=\"text-align: right;\">\n",
              "      <th></th>\n",
              "      <th>ID</th>\n",
              "      <th>ancestorID</th>\n",
              "      <th>сCode</th>\n",
              "      <th>Descr</th>\n",
              "      <th>typeID</th>\n",
              "    </tr>\n",
              "  </thead>\n",
              "  <tbody>\n",
              "    <tr>\n",
              "      <th>200</th>\n",
              "      <td>201</td>\n",
              "      <td>200</td>\n",
              "      <td>55.1</td>\n",
              "      <td>Споры по дела об оспаривании ненормативных пра...</td>\n",
              "      <td>8</td>\n",
              "    </tr>\n",
              "    <tr>\n",
              "      <th>201</th>\n",
              "      <td>202</td>\n",
              "      <td>200</td>\n",
              "      <td>55.2</td>\n",
              "      <td>Споры по делам об оспаривании ненормативных пр...</td>\n",
              "      <td>8</td>\n",
              "    </tr>\n",
              "    <tr>\n",
              "      <th>202</th>\n",
              "      <td>203</td>\n",
              "      <td>0</td>\n",
              "      <td>56</td>\n",
              "      <td>Экономические споры между Российской Федерацие...</td>\n",
              "      <td>8</td>\n",
              "    </tr>\n",
              "    <tr>\n",
              "      <th>203</th>\n",
              "      <td>204</td>\n",
              "      <td>0</td>\n",
              "      <td>57</td>\n",
              "      <td>Экономические споры между субъектами Российско...</td>\n",
              "      <td>8</td>\n",
              "    </tr>\n",
              "    <tr>\n",
              "      <th>204</th>\n",
              "      <td>205</td>\n",
              "      <td>0</td>\n",
              "      <td>Нет</td>\n",
              "      <td>Нет</td>\n",
              "      <td>8</td>\n",
              "    </tr>\n",
              "  </tbody>\n",
              "</table>\n",
              "</div>"
            ],
            "text/plain": [
              "      ID  ancestorID  ...                                              Descr typeID\n",
              "200  201         200  ...  Споры по дела об оспаривании ненормативных пра...      8\n",
              "201  202         200  ...  Споры по делам об оспаривании ненормативных пр...      8\n",
              "202  203           0  ...  Экономические споры между Российской Федерацие...      8\n",
              "203  204           0  ...  Экономические споры между субъектами Российско...      8\n",
              "204  205           0  ...                                                Нет      8\n",
              "\n",
              "[5 rows x 5 columns]"
            ]
          },
          "metadata": {
            "tags": []
          },
          "execution_count": 3
        }
      ]
    },
    {
      "cell_type": "code",
      "metadata": {
        "id": "e07DzfedVRCc"
      },
      "source": [
        "df_categs.to_excel(\"/content/drive/MyDrive/НУЛ АДП Материалы Марии Тимониной/_data/indexed_categories.xlsx\")"
      ],
      "execution_count": null,
      "outputs": []
    },
    {
      "cell_type": "markdown",
      "metadata": {
        "id": "qbovH1-Z5_xN"
      },
      "source": [
        "Создается словарь `id_descr`, хранящий полные названия категорий в строковом виде по его ключу-индексу в сквозной нумерации системы хранения. Используется метод `.map(dict)` для замены значений столбца по парам из словаря."
      ]
    },
    {
      "cell_type": "code",
      "metadata": {
        "id": "sQyzXxFo3g0J"
      },
      "source": [
        "id_descr = df_categs[['ID', 'Descr']].set_index('ID').to_dict()['Descr']"
      ],
      "execution_count": null,
      "outputs": []
    },
    {
      "cell_type": "code",
      "metadata": {
        "colab": {
          "base_uri": "https://localhost:8080/",
          "height": 196
        },
        "id": "U99y3WSF5MQI",
        "outputId": "5a55033d-9a63-4b68-883a-4defd814ab99"
      },
      "source": [
        "pathc = \"/content/drive/MyDrive/НУЛ АДП Материалы Марии Тимониной/_data/indexed_courts.csv\"\n",
        "df_courts = pd.read_csv(pathc, sep=',')\n",
        "df_courts.tail()"
      ],
      "execution_count": null,
      "outputs": [
        {
          "output_type": "execute_result",
          "data": {
            "text/html": [
              "<div>\n",
              "<style scoped>\n",
              "    .dataframe tbody tr th:only-of-type {\n",
              "        vertical-align: middle;\n",
              "    }\n",
              "\n",
              "    .dataframe tbody tr th {\n",
              "        vertical-align: top;\n",
              "    }\n",
              "\n",
              "    .dataframe thead th {\n",
              "        text-align: right;\n",
              "    }\n",
              "</style>\n",
              "<table border=\"1\" class=\"dataframe\">\n",
              "  <thead>\n",
              "    <tr style=\"text-align: right;\">\n",
              "      <th></th>\n",
              "      <th>ID</th>\n",
              "      <th>Ccode</th>\n",
              "      <th>Cname</th>\n",
              "      <th>Caltname</th>\n",
              "      <th>Calt2name</th>\n",
              "      <th>CTypeID</th>\n",
              "      <th>IDupperCourt</th>\n",
              "      <th>DistrID</th>\n",
              "    </tr>\n",
              "  </thead>\n",
              "  <tbody>\n",
              "    <tr>\n",
              "      <th>113</th>\n",
              "      <td>309</td>\n",
              "      <td>Ф09</td>\n",
              "      <td>АС Уральского округа</td>\n",
              "      <td>АС УО</td>\n",
              "      <td>--</td>\n",
              "      <td>3</td>\n",
              "      <td>401</td>\n",
              "      <td>9</td>\n",
              "    </tr>\n",
              "    <tr>\n",
              "      <th>114</th>\n",
              "      <td>310</td>\n",
              "      <td>Ф10</td>\n",
              "      <td>АС Центрального округа</td>\n",
              "      <td>АС ЦО</td>\n",
              "      <td>--</td>\n",
              "      <td>3</td>\n",
              "      <td>401</td>\n",
              "      <td>10</td>\n",
              "    </tr>\n",
              "    <tr>\n",
              "      <th>115</th>\n",
              "      <td>400</td>\n",
              "      <td>ВАС</td>\n",
              "      <td>Высший Арбитражный Суд РФ</td>\n",
              "      <td>ВАС РФ</td>\n",
              "      <td>--</td>\n",
              "      <td>4</td>\n",
              "      <td>400</td>\n",
              "      <td>0</td>\n",
              "    </tr>\n",
              "    <tr>\n",
              "      <th>116</th>\n",
              "      <td>401</td>\n",
              "      <td>ВС</td>\n",
              "      <td>Верховный Суд РФ</td>\n",
              "      <td>ВС РФ</td>\n",
              "      <td>--</td>\n",
              "      <td>4</td>\n",
              "      <td>400</td>\n",
              "      <td>0</td>\n",
              "    </tr>\n",
              "    <tr>\n",
              "      <th>117</th>\n",
              "      <td>500</td>\n",
              "      <td>СИП</td>\n",
              "      <td>Суд по интеллектуальным правам</td>\n",
              "      <td>СИП</td>\n",
              "      <td>--</td>\n",
              "      <td>5</td>\n",
              "      <td>400</td>\n",
              "      <td>0</td>\n",
              "    </tr>\n",
              "  </tbody>\n",
              "</table>\n",
              "</div>"
            ],
            "text/plain": [
              "      ID  Ccode                           Cname  ... CTypeID IDupperCourt  DistrID\n",
              "113  309  Ф09              АС Уральского округа  ...       3          401        9\n",
              "114  310  Ф10            АС Центрального округа  ...       3          401       10\n",
              "115  400  ВАС         Высший Арбитражный Суд РФ  ...       4          400        0\n",
              "116  401  ВС                   Верховный Суд РФ  ...       4          400        0\n",
              "117  500  СИП    Суд по интеллектуальным правам  ...       5          400        0\n",
              "\n",
              "[5 rows x 8 columns]"
            ]
          },
          "metadata": {
            "tags": []
          },
          "execution_count": 15
        }
      ]
    },
    {
      "cell_type": "code",
      "metadata": {
        "id": "YOcQOnS_Ljbh"
      },
      "source": [
        "ic_cname = df_courts[['ID', 'Cname']].set_index('ID').to_dict()['Cname']"
      ],
      "execution_count": null,
      "outputs": []
    },
    {
      "cell_type": "markdown",
      "metadata": {
        "id": "yvgCj8xrJuJc"
      },
      "source": [
        "# **Реализация**"
      ]
    },
    {
      "cell_type": "markdown",
      "metadata": {
        "id": "at3iCBRheMWp"
      },
      "source": [
        "Используется генератор **Нормального распределения** из встроенной библиотеки `scipy.stats`, $X \\sim N(0, 1)$, плотность которого выглядит как: $\n",
        "\\rho(x) = \\frac{1}{\\sqrt{2 \\pi}} \\cdot  e^{-\\frac{x^2}{2}}\n",
        "$\n",
        "\n",
        "Параметр ```loc``` задаёт $\\mu$, ```scale``` — среднеквадратичное отклонение $\\sigma$ в $N(\\mu, \\sigma)$."
      ]
    },
    {
      "cell_type": "code",
      "metadata": {
        "id": "PdRco4u4fQNH"
      },
      "source": [
        "def norm_distr_quantiles(alpha) :\n",
        "    norm_rv = stats.norm(loc=0, scale=1)  # задали генератор \n",
        "    sample = norm_rv.rvs(1000)  # сгенерируем 1000 значений\n",
        "\n",
        "    gamma = 1 - alpha / 2\n",
        "\n",
        "    q_right = norm_rv.ppf(gamma)\n",
        "    q_left = (-1) * q_right\n",
        "    return gamma, q_left, q_right"
      ],
      "execution_count": null,
      "outputs": []
    },
    {
      "cell_type": "code",
      "metadata": {
        "colab": {
          "base_uri": "https://localhost:8080/"
        },
        "id": "2vrm6Lcl17gt",
        "outputId": "b610b251-eb28-4c7e-fda0-0d17652b182b"
      },
      "source": [
        "print(norm_distr_quantiles(0.02))"
      ],
      "execution_count": null,
      "outputs": [
        {
          "output_type": "stream",
          "text": [
            "(0.99, -2.3263478740408408, 2.3263478740408408)\n"
          ],
          "name": "stdout"
        }
      ]
    },
    {
      "cell_type": "markdown",
      "metadata": {
        "id": "YTae4lh7f-Vt"
      },
      "source": [
        "Как было установлено ранее, для уровня значимости $\\alpha$ гипотеза не отвергается, если рассчитываемое значение показателя $K$ лежит в границах интервала $(X_{left, \\alpha/2}, X_{right, \\alpha/2})$, где эти крайние точки определяются как  квантиль уровня $\\frac{(1 - \\alpha)}{2}$ и число, равное ему по модулю и обратное по знаку.\n",
        "\n",
        "Квантиль уровня $\\gamma$ это такое число $q$, что $P(X \\le q) = \\gamma$. В python его можно получить с помощью метода `.ppf(`$\\gamma$)."
      ]
    },
    {
      "cell_type": "markdown",
      "metadata": {
        "id": "qJN1z8TgTJgq"
      },
      "source": [
        "---\n",
        "---"
      ]
    },
    {
      "cell_type": "markdown",
      "metadata": {
        "id": "Fu4h5HoEco-u"
      },
      "source": [
        "## **Первая идея с сортировкой категорий по частоте совпадений**"
      ]
    },
    {
      "cell_type": "markdown",
      "metadata": {
        "id": "7M9Nl7Xfhd7_"
      },
      "source": [
        "Реализована функция, принимающая на вход два массива граничных дат анализируемых временных интервалов (стандартно рассматривается 1 месяц, но возможно задать период произвольной длины) длины N и уровень значимости.\n",
        "\n",
        " Она отрисовывает N симметрических матриц удовлетворения условию , где желтая клетка (i, j) обозначает, что для пары категорий i и j гипотеза не отвергается, а фиолетовая наоборот - отвергается на уровне значимости $\\alpha$."
      ]
    },
    {
      "cell_type": "code",
      "metadata": {
        "id": "QMJacVSfF2Mg"
      },
      "source": [
        "def pairwise_hypothesis_test_arr(left_border_dates, right_border_dates, alpha=0.05, min_count=100, fs=10) :\n",
        "    if (len(left_border_dates) != len(right_border_dates)) :\n",
        "        print(\"Length of left_border_dates does not match the right_border_dates length!\")\n",
        "        return\n",
        "\n",
        "    fig, ax = plt.subplots(nrows=2, ncols=len(left_border_dates), figsize=(len(left_border_dates) * fs, 2 * fs))\n",
        "    arr_fits = [[] for i in range(len(left_border_dates))]\n",
        "    for dd in range(len(left_border_dates)) :\n",
        "          # отбор из полной базы всех дел за период от левой граничной даты до правой\n",
        "          df_parse = df[(df['StartDate'] <= pd.to_datetime(right_border_dates[dd])) & (df['FinishDate'] >= pd.to_datetime(left_border_dates[dd]))]\n",
        "          # подсчет средних, стандартных отклонений, кол-ва дел для каждой из категорий -> сохранение в dataframe df_work\n",
        "          df_work = df_parse.groupby('CategoryID')['ConsidTime'].agg(['mean', 'std', 'count'])\n",
        "          # рассматриваются только состоятельные категории, содержащие не менее min_count дел\n",
        "          df_work = df_work[df_work['count'] > min_count]\n",
        "\n",
        "          categ_list = df_work.index\n",
        "          cnum = len(categ_list)\n",
        "\n",
        "          # Подсчет значения критерия К для всех пар категорий\n",
        "          kdata = [[0] * cnum for i in range(cnum)]\n",
        "          for i in range(cnum) :\n",
        "              for j in range(cnum) :\n",
        "                  kdata[i][j] = K_value(categ_list[i], categ_list[j], df_work)\n",
        "          df_kcrit = pd.DataFrame(kdata, index=range(cnum), columns=range(cnum))\n",
        "\n",
        "          # определение границ доверительного интервала\n",
        "          gamma, q_left, q_right = norm_distr_quantiles(alpha)\n",
        "          # проверка гипотезы о равенстве средних для каждой пары\n",
        "          hy_data = [[0] * cnum for i in range(cnum)]\n",
        "          for i in range(cnum) :\n",
        "              for j in range(cnum) :\n",
        "                  if (kdata[i][j] > q_left) and (kdata[i][j] < q_right) :\n",
        "                      hy_data[i][j] = 1\n",
        "                  else :\n",
        "                      hy_data[i][j] = 0\n",
        "          df_hypo = pd.DataFrame(hy_data, index=range(cnum), columns=range(cnum))\n",
        "\n",
        "          fits = []\n",
        "          for i in range(cnum) :\n",
        "              sum = 0\n",
        "              for j in range(cnum) :\n",
        "                  sum += hy_data[i][j]\n",
        "              fits.append(sum)\n",
        "\n",
        "          arr_fits[dd] = pd.DataFrame([categ_list, fits]).transpose()\n",
        "          # далее идет код к построению второй матрицы - сортировка категорий\n",
        "          \n",
        "          df_work['fits'] = fits\n",
        "          df_work = df_work.sort_values(by='fits', ascending=False)\n",
        "\n",
        "          categ_list = df_work.index\n",
        "          cnum = len(categ_list)\n",
        "\n",
        "          kdata = [[0] * cnum for i in range(cnum)]\n",
        "          for i in range(cnum) :\n",
        "              for j in range(cnum) :\n",
        "                  kdata[i][j] = K_value(categ_list[i], categ_list[j], df_work)\n",
        "\n",
        "          hy_data_s = [[0] * cnum for i in range(cnum)]\n",
        "          for i in range(cnum) :\n",
        "              for j in range(cnum) :\n",
        "                  if (kdata[i][j] > q_left) and (kdata[i][j] < q_right) :\n",
        "                      hy_data_s[i][j] = 1\n",
        "                  else :\n",
        "                      hy_data_s[i][j] = 0    \n",
        "\n",
        "          df_hypo_s = pd.DataFrame(hy_data_s, index=range(cnum), columns=range(cnum))\n",
        "          \n",
        "          sns.heatmap(df_hypo, square=True, ax=ax[0][dd], cmap=\"flare_r\")\n",
        "          sns.heatmap(df_hypo_s, square=True, ax=ax[1][dd], cmap=\"flare_r\")\n",
        "\n",
        "    return arr_fits"
      ],
      "execution_count": null,
      "outputs": []
    },
    {
      "cell_type": "markdown",
      "metadata": {
        "id": "8EGGrEH5U3CH"
      },
      "source": [
        "**Комментарии к результату работы функции** \n",
        "\n",
        "Результат отображается в двух представлениях (двух строках таблицы матриц): в верхней полосе строки и столбцы категорий отсортированы по возрастанию своего номера в иерархической системе. Для увеличения наглядности и поиска возможных устойчивых соотоншений во второй полосе под каждым графиком из верхней строки изображается матрица, составленная из тех же ответов да/нет проверки гипотезы, но категории отсортированы по убыванию количества удовлетворительных ответов для одной категории. "
      ]
    },
    {
      "cell_type": "markdown",
      "metadata": {
        "id": "da-swRt0WUDS"
      },
      "source": [
        "В данный момент в тетрадке подгружается полная база **Картотеки арбитражных дел РФ с 2015 по 2020 год** включительно. Изобразим матрицы проверки гипотезы для января, мая, августа и декабря каждого из пяти лет."
      ]
    },
    {
      "cell_type": "code",
      "metadata": {
        "colab": {
          "base_uri": "https://localhost:8080/",
          "height": 500
        },
        "id": "sFaBmd64G7XT",
        "outputId": "5172e51d-d15c-4226-ce93-8d65b796c1ed"
      },
      "source": [
        "lb = ['2015-01-01', '2015-05-01', '2015-08-01', '2015-12-01']\n",
        "rb = ['2015-01-31', '2015-05-31', '2015-08-31', '2015-12-31']\n",
        "list_dfcs = pairwise_hypothesis_test_arr(lb, rb, alpha=0.02, min_count=2, fs=7)"
      ],
      "execution_count": null,
      "outputs": [
        {
          "output_type": "display_data",
          "data": {
            "image/png": "[encoded data removed]",
            "text/plain": [
              "<Figure size 2016x1008 with 16 Axes>"
            ]
          },
          "metadata": {
            "tags": [],
            "needs_background": "light"
          }
        }
      ]
    },
    {
      "cell_type": "code",
      "metadata": {
        "id": "NL98krhB41Vv",
        "colab": {
          "base_uri": "https://localhost:8080/",
          "height": 500
        },
        "outputId": "21e5f716-0c4e-47dc-b633-3d4d7f8d0655"
      },
      "source": [
        "lb = ['2015-01-01', '2015-05-01', '2015-08-01', '2015-12-01']\n",
        "rb = ['2015-01-31', '2015-05-31', '2015-08-31', '2015-12-31']\n",
        "list_dfcs = pairwise_hypothesis_test_arr(lb, rb, alpha=0.02, min_count=2, fs=7)"
      ],
      "execution_count": null,
      "outputs": [
        {
          "output_type": "display_data",
          "data": {
            "image/png": "[encoded data removed]",
            "text/plain": [
              "<Figure size 2016x1008 with 16 Axes>"
            ]
          },
          "metadata": {
            "tags": [],
            "needs_background": "light"
          }
        }
      ]
    },
    {
      "cell_type": "markdown",
      "metadata": {
        "id": "ExmlvmIIdE4u"
      },
      "source": [
        "## **Обработка информации о кол-ве совпадений для группы матриц**"
      ]
    },
    {
      "cell_type": "markdown",
      "metadata": {
        "id": "R_vCHo1V3jjL"
      },
      "source": [
        "Чтобы осмыслить полученные результаты, нужно установить, какие категории имеют \"наиболее стандартные\" распределения, то есть гипотеза о равенстве средних не отвергается для них с самым большим числом других категорий в паре, и наоборот - названия категорий, показывающих меньше всего желтых клеток в матрицах.\n",
        "\n",
        "Более того, можно попробовать объяснить схожесть для групп категорий их принадлежностью к категориям, более близким друг к другу по содержанию дел или видам договоров, если такая кластеризация имеет место быть."
      ]
    },
    {
      "cell_type": "code",
      "metadata": {
        "id": "JbrM9Sh1ezyl"
      },
      "source": [
        "main_cmet = df.groupby('CategoryID')['ConsidTime'].agg(['count']).index.to_list()"
      ],
      "execution_count": null,
      "outputs": []
    },
    {
      "cell_type": "code",
      "metadata": {
        "id": "zxcM3LalZBST"
      },
      "source": [
        "ctotal = len(main_cmet)\n",
        "\n",
        "def pairwise_hypothesis_test_filled(left_border_date, right_border_date, dest, alpha=0.05, min_count=0, fs=10, axi=False) :\n",
        "\n",
        "    if axi == False:\n",
        "      fig, axi = plt.subplots(figsize=(fs, fs))\n",
        "\n",
        "    # отбор из полной базы всех дел за период от левой граничной даты до правой\n",
        "    df_parse = df[(df['StartDate'] <= pd.to_datetime(right_border_date)) & (df['FinishDate'] >= pd.to_datetime(left_border_date))]\n",
        "    # подсчет средних, стандартных отклонений, кол-ва дел для каждой из категорий -> сохранение в dataframe df_work\n",
        "    df_work = df_parse.groupby('CategoryID')['ConsidTime'].agg(['mean', 'std', 'count'])\n",
        "    # рассматриваются только состоятельные категории, содержащие не менее min_count дел\n",
        "    df_work = df_work[df_work['count'] > min_count]\n",
        "\n",
        "    categ_list_used = df_work.index\n",
        "    cnum = len(categ_list_used)\n",
        "\n",
        "    useid = [0 for i in range(cnum)]\n",
        "    p = 0\n",
        "    for i in range(cnum) :\n",
        "        while (main_cmet[p] < categ_list_used[i]) :\n",
        "          p += 1\n",
        "        useid[i] = p\n",
        "        p += 1\n",
        "\n",
        "    # Подсчет значения критерия К для всех пар категорий\n",
        "    kdata = [[0] * ctotal for i in range(ctotal)]\n",
        "    for i in range(cnum) :\n",
        "        for j in range(cnum) :\n",
        "            ii = useid[i]\n",
        "            jj = useid[j]\n",
        "            kdata[ii][jj] = K_value(categ_list_used[i], categ_list_used[j], df_work)\n",
        "    df_kcrit = pd.DataFrame(kdata, index=range(ctotal), columns=range(ctotal))\n",
        "\n",
        "    # определение границ доверительного интервала\n",
        "    gamma, q_left, q_right = norm_distr_quantiles(alpha)\n",
        "    # проверка гипотезы о равенстве средних для каждой пары\n",
        "    hy_data = [[2] * ctotal for i in range(ctotal)]\n",
        "    for i in range(cnum) :\n",
        "        for j in range(cnum) :\n",
        "            ii = useid[i]\n",
        "            jj = useid[j]\n",
        "            if (kdata[ii][jj] > q_left) and (kdata[ii][jj] < q_right) :\n",
        "                hy_data[ii][jj] = 1\n",
        "            else :\n",
        "              hy_data[ii][jj] = 0\n",
        "    df_hypo = pd.DataFrame(hy_data, index=range(ctotal), columns=range(ctotal))\n",
        "\n",
        "    fits = [0 for i in range(ctotal)]\n",
        "    for i in range(cnum) :\n",
        "        sum = 0\n",
        "        for j in range(cnum) :\n",
        "            ii = useid[i]\n",
        "            jj = useid[j]\n",
        "            sum += hy_data[ii][jj]\n",
        "        fits[useid[i]] = sum\n",
        "    dest[left_border_date] = fits\n",
        "\n",
        "    sns.heatmap(df_hypo, square=True, ax=axi, cbar=False)"
      ],
      "execution_count": null,
      "outputs": []
    },
    {
      "cell_type": "code",
      "metadata": {
        "colab": {
          "base_uri": "https://localhost:8080/",
          "height": 421
        },
        "id": "_JsWpMu6sTMZ",
        "outputId": "7833d61b-4418-4538-e622-63772db97634"
      },
      "source": [
        "lb = ['2015-01-01', '2015-05-01', '2015-08-01', '2015-12-01']\n",
        "rb = ['2015-01-31', '2015-05-31', '2015-08-31', '2015-12-31']\n",
        "\n",
        "fs = 8\n",
        "fig, ax = plt.subplots(ncols = len(lb), figsize=( len(lb) * fs, fs))\n",
        "\n",
        "id_2015 = pd.DataFrame([main_cmet]).transpose()\n",
        "id_2015.rename(columns={0 : 'Categ'}, inplace=True)\n",
        "\n",
        "for i in range(len(lb)) :\n",
        "    pairwise_hypothesis_test_filled(lb[i], rb[i], id_2015, alpha=0.02, axi=ax[i])\n",
        "\n",
        "id_2015.set_index('Categ', inplace=True)\n",
        "id_2015.agg(['max', 'min', q25, q75, 'mean'])"
      ],
      "execution_count": null,
      "outputs": [
        {
          "output_type": "execute_result",
          "data": {
            "text/html": [
              "<div>\n",
              "<style scoped>\n",
              "    .dataframe tbody tr th:only-of-type {\n",
              "        vertical-align: middle;\n",
              "    }\n",
              "\n",
              "    .dataframe tbody tr th {\n",
              "        vertical-align: top;\n",
              "    }\n",
              "\n",
              "    .dataframe thead th {\n",
              "        text-align: right;\n",
              "    }\n",
              "</style>\n",
              "<table border=\"1\" class=\"dataframe\">\n",
              "  <thead>\n",
              "    <tr style=\"text-align: right;\">\n",
              "      <th></th>\n",
              "      <th>2015-01-01</th>\n",
              "      <th>2015-05-01</th>\n",
              "      <th>2015-08-01</th>\n",
              "      <th>2015-12-01</th>\n",
              "    </tr>\n",
              "  </thead>\n",
              "  <tbody>\n",
              "    <tr>\n",
              "      <th>max</th>\n",
              "      <td>38.000000</td>\n",
              "      <td>38.000000</td>\n",
              "      <td>38.000000</td>\n",
              "      <td>38.000000</td>\n",
              "    </tr>\n",
              "    <tr>\n",
              "      <th>min</th>\n",
              "      <td>7.000000</td>\n",
              "      <td>8.000000</td>\n",
              "      <td>7.000000</td>\n",
              "      <td>7.000000</td>\n",
              "    </tr>\n",
              "    <tr>\n",
              "      <th>q25</th>\n",
              "      <td>19.000000</td>\n",
              "      <td>20.250000</td>\n",
              "      <td>21.000000</td>\n",
              "      <td>19.000000</td>\n",
              "    </tr>\n",
              "    <tr>\n",
              "      <th>q75</th>\n",
              "      <td>32.500000</td>\n",
              "      <td>31.750000</td>\n",
              "      <td>32.750000</td>\n",
              "      <td>29.750000</td>\n",
              "    </tr>\n",
              "    <tr>\n",
              "      <th>mean</th>\n",
              "      <td>24.105263</td>\n",
              "      <td>25.052632</td>\n",
              "      <td>25.210526</td>\n",
              "      <td>23.631579</td>\n",
              "    </tr>\n",
              "  </tbody>\n",
              "</table>\n",
              "</div>"
            ],
            "text/plain": [
              "      2015-01-01  2015-05-01  2015-08-01  2015-12-01\n",
              "max    38.000000   38.000000   38.000000   38.000000\n",
              "min     7.000000    8.000000    7.000000    7.000000\n",
              "q25    19.000000   20.250000   21.000000   19.000000\n",
              "q75    32.500000   31.750000   32.750000   29.750000\n",
              "mean   24.105263   25.052632   25.210526   23.631579"
            ]
          },
          "metadata": {
            "tags": []
          },
          "execution_count": 24
        },
        {
          "output_type": "display_data",
          "data": {
            "image/png": "[encoded data removed]",
            "text/plain": [
              "<Figure size 2304x576 with 4 Axes>"
            ]
          },
          "metadata": {
            "tags": [],
            "needs_background": "light"
          }
        }
      ]
    },
    {
      "cell_type": "code",
      "metadata": {
        "colab": {
          "base_uri": "https://localhost:8080/"
        },
        "id": "3-6fagjWXAqz",
        "outputId": "4b64dac4-66dc-4f5e-8a38-cae23264d45f"
      },
      "source": [
        "id_2015['Categ'] = id_2015.index.map(id_descr)\n",
        "\n",
        "id_2015.sort_values(by='2015-05-01', ascending=True, inplace=True)\n",
        "id_2015['Categ'].values[:10]"
      ],
      "execution_count": null,
      "outputs": [
        {
          "output_type": "execute_result",
          "data": {
            "text/plain": [
              "array(['Споры о неисполнении или ненадлежащем исполнении обязательств по договорам займа и кредита',\n",
              "       'Споры о несостоятельности (банкротстве)',\n",
              "       'Споры, связанные с защитой права собственности, иных вещных прав',\n",
              "       'Споры, связанные с применением законодательства об административных правонарушениях',\n",
              "       'Споры о взыскании с организаций и граждан обязательных платежей и санкций, если не предусмотрен иной порядок их взыскания',\n",
              "       'Споры, связанные с применением законодательства о земле',\n",
              "       'Споры о неисполнении или ненадлежащем исполнении обязательств по договорам в сфере транспортной деятельности',\n",
              "       'Споры об оспаривании ненормативных правовых актов, решений и действий (бездействия) государственных органов, органов местного самоуправления, иных органов, организаций, наделенных федеральным законом отдельными государственными или иными публичными полномочиями, должностных лиц',\n",
              "       'Споры о выдаче исполнительного листа на принудительное исполнение решения третейского суда',\n",
              "       'Споры о неисполнении или ненадлежащем исполнении обязательств по договорам возмездного оказания услуг'],\n",
              "      dtype=object)"
            ]
          },
          "metadata": {
            "tags": []
          },
          "execution_count": 25
        }
      ]
    },
    {
      "cell_type": "code",
      "metadata": {
        "colab": {
          "base_uri": "https://localhost:8080/",
          "height": 421
        },
        "id": "zmyXA5HnZlGL",
        "outputId": "6641aaa2-0890-4427-dd2c-b937494e96cd"
      },
      "source": [
        "lb = ['2019-01-01', '2019-05-01', '2019-08-01', '2019-12-01']\n",
        "rb = ['2019-01-31', '2019-05-31', '2019-08-31', '2019-12-31']\n",
        "\n",
        "fs = 8\n",
        "fig, ax = plt.subplots(ncols = len(lb), figsize=( len(lb) * fs, fs))\n",
        "\n",
        "id_2019 = pd.DataFrame([main_cmet]).transpose()\n",
        "id_2019.rename(columns={0 : 'Categ'}, inplace=True)\n",
        "\n",
        "for i in range(len(lb)) :\n",
        "    pairwise_hypothesis_test_filled(lb[i], rb[i], id_2019, alpha=0.02, axi=ax[i])\n",
        "\n",
        "id_2019.set_index('Categ', inplace=True)\n",
        "id_2019.agg(['max', 'min', q25, q75, 'mean'])"
      ],
      "execution_count": null,
      "outputs": [
        {
          "output_type": "execute_result",
          "data": {
            "text/html": [
              "<div>\n",
              "<style scoped>\n",
              "    .dataframe tbody tr th:only-of-type {\n",
              "        vertical-align: middle;\n",
              "    }\n",
              "\n",
              "    .dataframe tbody tr th {\n",
              "        vertical-align: top;\n",
              "    }\n",
              "\n",
              "    .dataframe thead th {\n",
              "        text-align: right;\n",
              "    }\n",
              "</style>\n",
              "<table border=\"1\" class=\"dataframe\">\n",
              "  <thead>\n",
              "    <tr style=\"text-align: right;\">\n",
              "      <th></th>\n",
              "      <th>2019-01-01</th>\n",
              "      <th>2019-05-01</th>\n",
              "      <th>2019-08-01</th>\n",
              "      <th>2019-12-01</th>\n",
              "    </tr>\n",
              "  </thead>\n",
              "  <tbody>\n",
              "    <tr>\n",
              "      <th>max</th>\n",
              "      <td>37.000000</td>\n",
              "      <td>38.000000</td>\n",
              "      <td>38.000000</td>\n",
              "      <td>36.000000</td>\n",
              "    </tr>\n",
              "    <tr>\n",
              "      <th>min</th>\n",
              "      <td>0.000000</td>\n",
              "      <td>2.000000</td>\n",
              "      <td>2.000000</td>\n",
              "      <td>0.000000</td>\n",
              "    </tr>\n",
              "    <tr>\n",
              "      <th>q25</th>\n",
              "      <td>17.250000</td>\n",
              "      <td>18.250000</td>\n",
              "      <td>19.000000</td>\n",
              "      <td>17.250000</td>\n",
              "    </tr>\n",
              "    <tr>\n",
              "      <th>q75</th>\n",
              "      <td>28.250000</td>\n",
              "      <td>29.750000</td>\n",
              "      <td>28.000000</td>\n",
              "      <td>26.000000</td>\n",
              "    </tr>\n",
              "    <tr>\n",
              "      <th>mean</th>\n",
              "      <td>21.078947</td>\n",
              "      <td>22.263158</td>\n",
              "      <td>22.473684</td>\n",
              "      <td>19.973684</td>\n",
              "    </tr>\n",
              "  </tbody>\n",
              "</table>\n",
              "</div>"
            ],
            "text/plain": [
              "      2019-01-01  2019-05-01  2019-08-01  2019-12-01\n",
              "max    37.000000   38.000000   38.000000   36.000000\n",
              "min     0.000000    2.000000    2.000000    0.000000\n",
              "q25    17.250000   18.250000   19.000000   17.250000\n",
              "q75    28.250000   29.750000   28.000000   26.000000\n",
              "mean   21.078947   22.263158   22.473684   19.973684"
            ]
          },
          "metadata": {
            "tags": []
          },
          "execution_count": 26
        },
        {
          "output_type": "display_data",
          "data": {
            "image/png": "[encoded data removed]",
            "text/plain": [
              "<Figure size 2304x576 with 4 Axes>"
            ]
          },
          "metadata": {
            "tags": [],
            "needs_background": "light"
          }
        }
      ]
    },
    {
      "cell_type": "code",
      "metadata": {
        "id": "mlGeyo5dgv-t"
      },
      "source": [
        "id_2019['Categ'] = id_2019.index.map(id_descr)\n",
        "\n",
        "id_2019.sort_values(by='2019-08-01', ascending=True, inplace=True)"
      ],
      "execution_count": null,
      "outputs": []
    },
    {
      "cell_type": "code",
      "metadata": {
        "id": "Cvb-E6EadtFY",
        "colab": {
          "base_uri": "https://localhost:8080/",
          "height": 241
        },
        "outputId": "8e467a4d-4c77-4852-bd5d-a4e844c46535"
      },
      "source": [
        "lb = ['2019-01-01', '2019-05-01', '2019-08-01', '2019-12-01']\n",
        "rb = ['2019-01-31', '2019-05-31', '2019-08-31', '2019-12-31']\n",
        "\n",
        "fs = 8\n",
        "fig, ax = plt.subplots(ncols = len(lb), figsize=( len(lb) * fs, fs))\n",
        "\n",
        "table_2019_5 = pd.DataFrame([main_cmet]).transpose()\n",
        "table_2019_5.rename(columns={0 : 'Categ'}, inplace=True)\n",
        "\n",
        "for i in range(len(lb)) :\n",
        "    pairwise_hypothesis_test_filled(lb[i], rb[i], table_2019_5, alpha=0.1, axi=ax[i])\n",
        "\n",
        "#table_2019_5.head()"
      ],
      "execution_count": null,
      "outputs": [
        {
          "output_type": "display_data",
          "data": {
            "image/png": "[encoded data removed]",
            "text/plain": [
              "<Figure size 2304x576 with 4 Axes>"
            ]
          },
          "metadata": {
            "tags": [],
            "needs_background": "light"
          }
        }
      ]
    },
    {
      "cell_type": "markdown",
      "metadata": {
        "id": "iOzNoD7aBD0n"
      },
      "source": [
        "## **Базовое деление - территориальное (по судам)**"
      ]
    },
    {
      "cell_type": "code",
      "metadata": {
        "id": "F4z4s5F0BmwU",
        "colab": {
          "base_uri": "https://localhost:8080/"
        },
        "outputId": "55832526-f9c4-4311-ceaa-6a6bd8888e4c"
      },
      "source": [
        "courts_met = df.groupby('CourtID')['ConsidTime'].agg(['count']).index.to_list()\n",
        "len(courts_met)"
      ],
      "execution_count": null,
      "outputs": [
        {
          "output_type": "execute_result",
          "data": {
            "text/plain": [
              "84"
            ]
          },
          "metadata": {
            "tags": []
          },
          "execution_count": 29
        }
      ]
    },
    {
      "cell_type": "code",
      "metadata": {
        "id": "NuNBqTTjBXXs"
      },
      "source": [
        "courtot = len(courts_met)\n",
        "\n",
        "def pairwise_hypothesis_test_courts(left_border_date, right_border_date, dest, alpha=0.05, min_count=0, fs=15, axi=False, df=df) :\n",
        "\n",
        "    if axi == False:\n",
        "      fig, axi = plt.subplots(figsize=(fs, fs))\n",
        "\n",
        "    # отбор из полной базы всех дел за период от левой граничной даты до правой\n",
        "    df_parse = df[(df['StartDate'] <= pd.to_datetime(right_border_date)) & (df['FinishDate'] >= pd.to_datetime(left_border_date))]\n",
        "    # подсчет средних, стандартных отклонений, кол-ва дел для каждой из категорий -> сохранение в dataframe df_work\n",
        "    df_work = df_parse.groupby('CourtID')['ConsidTime'].agg(['mean', 'std', 'count'])\n",
        "    # рассматриваются только состоятельные категории, содержащие не менее min_count дел\n",
        "    df_work = df_work[df_work['count'] > min_count]\n",
        "\n",
        "    court_list_used = df_work.index\n",
        "    cnum = len(court_list_used)\n",
        "\n",
        "    useid = [0 for i in range(cnum)]\n",
        "    p = 0\n",
        "    for i in range(cnum) :\n",
        "        while (courts_met[p] < court_list_used[i]) :\n",
        "          p += 1\n",
        "        useid[i] = p\n",
        "        p += 1\n",
        "\n",
        "    # Подсчет значения критерия К для всех пар категорий\n",
        "    kdata = [[0] * courtot for i in range(courtot)]\n",
        "    for i in range(cnum) :\n",
        "        for j in range(cnum) :\n",
        "            ii = useid[i]\n",
        "            jj = useid[j]\n",
        "            kdata[ii][jj] = K_value(court_list_used[i], court_list_used[j], df_work)\n",
        "    df_kcrit = pd.DataFrame(kdata, index=range(courtot), columns=range(courtot))\n",
        "\n",
        "    # определение границ доверительного интервала\n",
        "    gamma, q_left, q_right = norm_distr_quantiles(alpha)\n",
        "    # проверка гипотезы о равенстве средних для каждой пары\n",
        "    hy_data = [[2] * courtot for i in range(courtot)]\n",
        "    for i in range(cnum) :\n",
        "        for j in range(cnum) :\n",
        "            ii = useid[i]\n",
        "            jj = useid[j]\n",
        "            if (kdata[ii][jj] > q_left) and (kdata[ii][jj] < q_right) :\n",
        "                hy_data[ii][jj] = 1\n",
        "            else :\n",
        "                hy_data[ii][jj] = 0\n",
        "    df_hypo = pd.DataFrame(hy_data, index=range(courtot), columns=range(courtot))\n",
        "\n",
        "    fits = [0 for i in range(courtot)]\n",
        "    for i in range(cnum) :\n",
        "        sum = 0\n",
        "        for j in range(cnum) :\n",
        "            ii = useid[i]\n",
        "            jj = useid[j]\n",
        "            sum += hy_data[ii][jj]\n",
        "        fits[useid[i]] = sum\n",
        "    dest[left_border_date] = fits\n",
        "\n",
        "    sns.heatmap(df_hypo, square=True, ax=axi, cbar=False)"
      ],
      "execution_count": null,
      "outputs": []
    },
    {
      "cell_type": "code",
      "metadata": {
        "id": "bw7nO592DNj2",
        "colab": {
          "base_uri": "https://localhost:8080/",
          "height": 497
        },
        "outputId": "3c08c2dc-a42f-4f5b-d4ad-6cd14673d3a2"
      },
      "source": [
        "lb = ['2019-01-01', '2019-05-01', '2019-10-01']\n",
        "rb = ['2019-01-31', '2019-05-31', '2019-10-31']\n",
        "\n",
        "fs = 10\n",
        "fig, ax = plt.subplots(ncols = len(lb), figsize=( len(lb) * fs, fs))\n",
        "\n",
        "tc_2019 = pd.DataFrame([courts_met]).transpose()\n",
        "tc_2019.rename(columns={0 : 'Court'}, inplace=True)\n",
        "\n",
        "for i in range(len(lb)) :\n",
        "    pairwise_hypothesis_test_courts(lb[i], rb[i], tc_2019, alpha=0.1, axi=ax[i])\n",
        "\n",
        "plt.savefig('/content/drive/MyDrive/НУЛ АДП Материалы Марии Тимониной/_Colab Notebooks НУЛ АДП/pics/матрицы2019.jpg')\n",
        "\n",
        "tc_2019.set_index('Court', inplace=True)\n",
        "tc_2019.agg(['max', 'min', q25, q75, 'mean'])"
      ],
      "execution_count": null,
      "outputs": [
        {
          "output_type": "execute_result",
          "data": {
            "text/html": [
              "<div>\n",
              "<style scoped>\n",
              "    .dataframe tbody tr th:only-of-type {\n",
              "        vertical-align: middle;\n",
              "    }\n",
              "\n",
              "    .dataframe tbody tr th {\n",
              "        vertical-align: top;\n",
              "    }\n",
              "\n",
              "    .dataframe thead th {\n",
              "        text-align: right;\n",
              "    }\n",
              "</style>\n",
              "<table border=\"1\" class=\"dataframe\">\n",
              "  <thead>\n",
              "    <tr style=\"text-align: right;\">\n",
              "      <th></th>\n",
              "      <th>2019-01-01</th>\n",
              "      <th>2019-05-01</th>\n",
              "      <th>2019-10-01</th>\n",
              "    </tr>\n",
              "  </thead>\n",
              "  <tbody>\n",
              "    <tr>\n",
              "      <th>max</th>\n",
              "      <td>82.000000</td>\n",
              "      <td>82.000000</td>\n",
              "      <td>82.000000</td>\n",
              "    </tr>\n",
              "    <tr>\n",
              "      <th>min</th>\n",
              "      <td>2.000000</td>\n",
              "      <td>2.000000</td>\n",
              "      <td>2.000000</td>\n",
              "    </tr>\n",
              "    <tr>\n",
              "      <th>q25</th>\n",
              "      <td>42.000000</td>\n",
              "      <td>39.000000</td>\n",
              "      <td>41.000000</td>\n",
              "    </tr>\n",
              "    <tr>\n",
              "      <th>q75</th>\n",
              "      <td>61.000000</td>\n",
              "      <td>61.250000</td>\n",
              "      <td>60.250000</td>\n",
              "    </tr>\n",
              "    <tr>\n",
              "      <th>mean</th>\n",
              "      <td>50.261905</td>\n",
              "      <td>49.547619</td>\n",
              "      <td>49.738095</td>\n",
              "    </tr>\n",
              "  </tbody>\n",
              "</table>\n",
              "</div>"
            ],
            "text/plain": [
              "      2019-01-01  2019-05-01  2019-10-01\n",
              "max    82.000000   82.000000   82.000000\n",
              "min     2.000000    2.000000    2.000000\n",
              "q25    42.000000   39.000000   41.000000\n",
              "q75    61.000000   61.250000   60.250000\n",
              "mean   50.261905   49.547619   49.738095"
            ]
          },
          "metadata": {
            "tags": []
          },
          "execution_count": 39
        },
        {
          "output_type": "display_data",
          "data": {
            "image/png": "[encoded data removed]",
            "text/plain": [
              "<Figure size 2160x720 with 3 Axes>"
            ]
          },
          "metadata": {
            "tags": [],
            "needs_background": "light"
          }
        }
      ]
    },
    {
      "cell_type": "code",
      "metadata": {
        "id": "zhAdqswypLH8"
      },
      "source": [
        ""
      ],
      "execution_count": null,
      "outputs": []
    },
    {
      "cell_type": "code",
      "metadata": {
        "id": "yXMh_vNnI8bB"
      },
      "source": [
        "tc_2019['Cname'] = tc_2019.index\n",
        "tc_2019['Cname'] = tc_2019['Cname'].map(ic_cname)"
      ],
      "execution_count": null,
      "outputs": []
    },
    {
      "cell_type": "code",
      "metadata": {
        "id": "pBnZZ83XEyCC",
        "colab": {
          "base_uri": "https://localhost:8080/",
          "height": 375
        },
        "outputId": "5c007af9-06a7-4356-f3b0-40c56b39a708"
      },
      "source": [
        "tc_2019.sort_values(by='2019-05-01', ascending=True, inplace=True)\n",
        "tc_2019[:10]"
      ],
      "execution_count": null,
      "outputs": [
        {
          "output_type": "execute_result",
          "data": {
            "text/html": [
              "<div>\n",
              "<style scoped>\n",
              "    .dataframe tbody tr th:only-of-type {\n",
              "        vertical-align: middle;\n",
              "    }\n",
              "\n",
              "    .dataframe tbody tr th {\n",
              "        vertical-align: top;\n",
              "    }\n",
              "\n",
              "    .dataframe thead th {\n",
              "        text-align: right;\n",
              "    }\n",
              "</style>\n",
              "<table border=\"1\" class=\"dataframe\">\n",
              "  <thead>\n",
              "    <tr style=\"text-align: right;\">\n",
              "      <th></th>\n",
              "      <th>2019-01-01</th>\n",
              "      <th>2019-05-01</th>\n",
              "      <th>2019-10-01</th>\n",
              "      <th>Cname</th>\n",
              "    </tr>\n",
              "    <tr>\n",
              "      <th>Court</th>\n",
              "      <th></th>\n",
              "      <th></th>\n",
              "      <th></th>\n",
              "      <th></th>\n",
              "    </tr>\n",
              "  </thead>\n",
              "  <tbody>\n",
              "    <tr>\n",
              "      <th>4</th>\n",
              "      <td>2</td>\n",
              "      <td>2</td>\n",
              "      <td>2</td>\n",
              "      <td>АС Амурской области</td>\n",
              "    </tr>\n",
              "    <tr>\n",
              "      <th>64</th>\n",
              "      <td>5</td>\n",
              "      <td>2</td>\n",
              "      <td>3</td>\n",
              "      <td>АС Тамбовской области</td>\n",
              "    </tr>\n",
              "    <tr>\n",
              "      <th>9</th>\n",
              "      <td>5</td>\n",
              "      <td>5</td>\n",
              "      <td>7</td>\n",
              "      <td>АС Брянской области</td>\n",
              "    </tr>\n",
              "    <tr>\n",
              "      <th>74</th>\n",
              "      <td>12</td>\n",
              "      <td>7</td>\n",
              "      <td>13</td>\n",
              "      <td>АС Республики Хакасия</td>\n",
              "    </tr>\n",
              "    <tr>\n",
              "      <th>32</th>\n",
              "      <td>6</td>\n",
              "      <td>8</td>\n",
              "      <td>9</td>\n",
              "      <td>АС Краснодарского края</td>\n",
              "    </tr>\n",
              "    <tr>\n",
              "      <th>28</th>\n",
              "      <td>26</td>\n",
              "      <td>12</td>\n",
              "      <td>17</td>\n",
              "      <td>АС Кировской области</td>\n",
              "    </tr>\n",
              "    <tr>\n",
              "      <th>90</th>\n",
              "      <td>34</td>\n",
              "      <td>13</td>\n",
              "      <td>11</td>\n",
              "      <td>ПСП Арбитражного суда Пермского края</td>\n",
              "    </tr>\n",
              "    <tr>\n",
              "      <th>27</th>\n",
              "      <td>18</td>\n",
              "      <td>14</td>\n",
              "      <td>24</td>\n",
              "      <td>АС Кемеровской области</td>\n",
              "    </tr>\n",
              "    <tr>\n",
              "      <th>48</th>\n",
              "      <td>34</td>\n",
              "      <td>17</td>\n",
              "      <td>50</td>\n",
              "      <td>АС Орловской области</td>\n",
              "    </tr>\n",
              "    <tr>\n",
              "      <th>39</th>\n",
              "      <td>44</td>\n",
              "      <td>18</td>\n",
              "      <td>14</td>\n",
              "      <td>АС Республики Мордовия</td>\n",
              "    </tr>\n",
              "  </tbody>\n",
              "</table>\n",
              "</div>"
            ],
            "text/plain": [
              "       2019-01-01  2019-05-01  2019-10-01                                 Cname\n",
              "Court                                                                          \n",
              "4               2           2           2                   АС Амурской области\n",
              "64              5           2           3                 АС Тамбовской области\n",
              "9               5           5           7                   АС Брянской области\n",
              "74             12           7          13                 АС Республики Хакасия\n",
              "32              6           8           9                АС Краснодарского края\n",
              "28             26          12          17                  АС Кировской области\n",
              "90             34          13          11  ПСП Арбитражного суда Пермского края\n",
              "27             18          14          24                АС Кемеровской области\n",
              "48             34          17          50                  АС Орловской области\n",
              "39             44          18          14                АС Республики Мордовия"
            ]
          },
          "metadata": {
            "tags": []
          },
          "execution_count": 33
        }
      ]
    },
    {
      "cell_type": "code",
      "metadata": {
        "id": "zWcUfXoUSyD7",
        "colab": {
          "base_uri": "https://localhost:8080/",
          "height": 497
        },
        "outputId": "d7f67422-faa6-4c5a-c7dd-5928eb24b05c"
      },
      "source": [
        "lb = ['2017-01-01', '2017-05-01', '2017-10-01']\n",
        "rb = ['2017-01-31', '2017-05-31', '2017-10-31']\n",
        "\n",
        "fs = 10\n",
        "fig, ax = plt.subplots(ncols = len(lb), figsize=( len(lb) * fs, fs))\n",
        "\n",
        "tc_2017 = pd.DataFrame([courts_met]).transpose()\n",
        "tc_2017.rename(columns={0 : 'Court'}, inplace=True)\n",
        "\n",
        "for i in range(len(lb)) :\n",
        "    pairwise_hypothesis_test_courts(lb[i], rb[i], tc_2017, alpha=0.1, axi=ax[i])\n",
        "\n",
        "tc_2017.set_index('Court', inplace=True)\n",
        "tc_2017.agg(['max', 'min', q25, q75, 'mean'])"
      ],
      "execution_count": null,
      "outputs": [
        {
          "output_type": "execute_result",
          "data": {
            "text/html": [
              "<div>\n",
              "<style scoped>\n",
              "    .dataframe tbody tr th:only-of-type {\n",
              "        vertical-align: middle;\n",
              "    }\n",
              "\n",
              "    .dataframe tbody tr th {\n",
              "        vertical-align: top;\n",
              "    }\n",
              "\n",
              "    .dataframe thead th {\n",
              "        text-align: right;\n",
              "    }\n",
              "</style>\n",
              "<table border=\"1\" class=\"dataframe\">\n",
              "  <thead>\n",
              "    <tr style=\"text-align: right;\">\n",
              "      <th></th>\n",
              "      <th>2017-01-01</th>\n",
              "      <th>2017-05-01</th>\n",
              "      <th>2017-10-01</th>\n",
              "    </tr>\n",
              "  </thead>\n",
              "  <tbody>\n",
              "    <tr>\n",
              "      <th>max</th>\n",
              "      <td>83.000000</td>\n",
              "      <td>81.000000</td>\n",
              "      <td>81.000000</td>\n",
              "    </tr>\n",
              "    <tr>\n",
              "      <th>min</th>\n",
              "      <td>3.000000</td>\n",
              "      <td>5.000000</td>\n",
              "      <td>4.000000</td>\n",
              "    </tr>\n",
              "    <tr>\n",
              "      <th>q25</th>\n",
              "      <td>32.750000</td>\n",
              "      <td>34.750000</td>\n",
              "      <td>31.500000</td>\n",
              "    </tr>\n",
              "    <tr>\n",
              "      <th>q75</th>\n",
              "      <td>54.500000</td>\n",
              "      <td>58.000000</td>\n",
              "      <td>59.250000</td>\n",
              "    </tr>\n",
              "    <tr>\n",
              "      <th>mean</th>\n",
              "      <td>44.333333</td>\n",
              "      <td>45.857143</td>\n",
              "      <td>45.738095</td>\n",
              "    </tr>\n",
              "  </tbody>\n",
              "</table>\n",
              "</div>"
            ],
            "text/plain": [
              "      2017-01-01  2017-05-01  2017-10-01\n",
              "max    83.000000   81.000000   81.000000\n",
              "min     3.000000    5.000000    4.000000\n",
              "q25    32.750000   34.750000   31.500000\n",
              "q75    54.500000   58.000000   59.250000\n",
              "mean   44.333333   45.857143   45.738095"
            ]
          },
          "metadata": {
            "tags": []
          },
          "execution_count": 34
        },
        {
          "output_type": "display_data",
          "data": {
            "image/png": "[encoded data removed]",
            "text/plain": [
              "<Figure size 2160x720 with 3 Axes>"
            ]
          },
          "metadata": {
            "tags": [],
            "needs_background": "light"
          }
        }
      ]
    },
    {
      "cell_type": "code",
      "metadata": {
        "id": "k-csZlsTTH-f",
        "colab": {
          "base_uri": "https://localhost:8080/",
          "height": 375
        },
        "outputId": "c5cf007d-d092-4556-c394-3626ac7d1d5f"
      },
      "source": [
        "tc_2017['Cname'] = tc_2017.index\n",
        "tc_2017['Cname'] = tc_2017['Cname'].map(ic_cname)\n",
        "\n",
        "tc_2017.sort_values(by='2017-05-01', ascending=True, inplace=True)\n",
        "tc_2017[:10]"
      ],
      "execution_count": null,
      "outputs": [
        {
          "output_type": "execute_result",
          "data": {
            "text/html": [
              "<div>\n",
              "<style scoped>\n",
              "    .dataframe tbody tr th:only-of-type {\n",
              "        vertical-align: middle;\n",
              "    }\n",
              "\n",
              "    .dataframe tbody tr th {\n",
              "        vertical-align: top;\n",
              "    }\n",
              "\n",
              "    .dataframe thead th {\n",
              "        text-align: right;\n",
              "    }\n",
              "</style>\n",
              "<table border=\"1\" class=\"dataframe\">\n",
              "  <thead>\n",
              "    <tr style=\"text-align: right;\">\n",
              "      <th></th>\n",
              "      <th>2017-01-01</th>\n",
              "      <th>2017-05-01</th>\n",
              "      <th>2017-10-01</th>\n",
              "      <th>Cname</th>\n",
              "    </tr>\n",
              "    <tr>\n",
              "      <th>Court</th>\n",
              "      <th></th>\n",
              "      <th></th>\n",
              "      <th></th>\n",
              "      <th></th>\n",
              "    </tr>\n",
              "  </thead>\n",
              "  <tbody>\n",
              "    <tr>\n",
              "      <th>4</th>\n",
              "      <td>3</td>\n",
              "      <td>5</td>\n",
              "      <td>4</td>\n",
              "      <td>АС Амурской области</td>\n",
              "    </tr>\n",
              "    <tr>\n",
              "      <th>64</th>\n",
              "      <td>6</td>\n",
              "      <td>5</td>\n",
              "      <td>4</td>\n",
              "      <td>АС Тамбовской области</td>\n",
              "    </tr>\n",
              "    <tr>\n",
              "      <th>90</th>\n",
              "      <td>11</td>\n",
              "      <td>11</td>\n",
              "      <td>7</td>\n",
              "      <td>ПСП Арбитражного суда Пермского края</td>\n",
              "    </tr>\n",
              "    <tr>\n",
              "      <th>32</th>\n",
              "      <td>12</td>\n",
              "      <td>11</td>\n",
              "      <td>8</td>\n",
              "      <td>АС Краснодарского края</td>\n",
              "    </tr>\n",
              "    <tr>\n",
              "      <th>9</th>\n",
              "      <td>14</td>\n",
              "      <td>11</td>\n",
              "      <td>7</td>\n",
              "      <td>АС Брянской области</td>\n",
              "    </tr>\n",
              "    <tr>\n",
              "      <th>27</th>\n",
              "      <td>27</td>\n",
              "      <td>14</td>\n",
              "      <td>26</td>\n",
              "      <td>АС Кемеровской области</td>\n",
              "    </tr>\n",
              "    <tr>\n",
              "      <th>46</th>\n",
              "      <td>30</td>\n",
              "      <td>14</td>\n",
              "      <td>18</td>\n",
              "      <td>АС Омской области</td>\n",
              "    </tr>\n",
              "    <tr>\n",
              "      <th>31</th>\n",
              "      <td>18</td>\n",
              "      <td>15</td>\n",
              "      <td>23</td>\n",
              "      <td>АС Костромской области</td>\n",
              "    </tr>\n",
              "    <tr>\n",
              "      <th>38</th>\n",
              "      <td>16</td>\n",
              "      <td>22</td>\n",
              "      <td>51</td>\n",
              "      <td>АС Республики Марий Эл</td>\n",
              "    </tr>\n",
              "    <tr>\n",
              "      <th>48</th>\n",
              "      <td>24</td>\n",
              "      <td>22</td>\n",
              "      <td>32</td>\n",
              "      <td>АС Орловской области</td>\n",
              "    </tr>\n",
              "  </tbody>\n",
              "</table>\n",
              "</div>"
            ],
            "text/plain": [
              "       2017-01-01  2017-05-01  2017-10-01                                 Cname\n",
              "Court                                                                          \n",
              "4               3           5           4                   АС Амурской области\n",
              "64              6           5           4                 АС Тамбовской области\n",
              "90             11          11           7  ПСП Арбитражного суда Пермского края\n",
              "32             12          11           8                АС Краснодарского края\n",
              "9              14          11           7                   АС Брянской области\n",
              "27             27          14          26                АС Кемеровской области\n",
              "46             30          14          18                     АС Омской области\n",
              "31             18          15          23                АС Костромской области\n",
              "38             16          22          51                АС Республики Марий Эл\n",
              "48             24          22          32                  АС Орловской области"
            ]
          },
          "metadata": {
            "tags": []
          },
          "execution_count": 35
        }
      ]
    },
    {
      "cell_type": "code",
      "metadata": {
        "id": "37niGF88bfim",
        "colab": {
          "base_uri": "https://localhost:8080/",
          "height": 497
        },
        "outputId": "2e592c2e-43aa-4290-e090-e2afd8285121"
      },
      "source": [
        "lb = ['2015-01-01', '2015-05-01', '2015-10-01']\n",
        "rb = ['2015-01-31', '2015-05-31', '2015-10-31']\n",
        "\n",
        "fs = 10\n",
        "fig, ax = plt.subplots(ncols = len(lb), figsize=( len(lb) * fs, fs))\n",
        "\n",
        "tc_2015 = pd.DataFrame([courts_met]).transpose()\n",
        "tc_2015.rename(columns={0 : 'Court'}, inplace=True)\n",
        "\n",
        "for i in range(len(lb)) :\n",
        "    pairwise_hypothesis_test_courts(lb[i], rb[i], tc_2015, alpha=0.1, axi=ax[i])\n",
        "\n",
        "tc_2015.set_index('Court', inplace=True)\n",
        "tc_2015.agg(['max', 'min', q25, q75, 'mean'])"
      ],
      "execution_count": null,
      "outputs": [
        {
          "output_type": "execute_result",
          "data": {
            "text/html": [
              "<div>\n",
              "<style scoped>\n",
              "    .dataframe tbody tr th:only-of-type {\n",
              "        vertical-align: middle;\n",
              "    }\n",
              "\n",
              "    .dataframe tbody tr th {\n",
              "        vertical-align: top;\n",
              "    }\n",
              "\n",
              "    .dataframe thead th {\n",
              "        text-align: right;\n",
              "    }\n",
              "</style>\n",
              "<table border=\"1\" class=\"dataframe\">\n",
              "  <thead>\n",
              "    <tr style=\"text-align: right;\">\n",
              "      <th></th>\n",
              "      <th>2015-01-01</th>\n",
              "      <th>2015-05-01</th>\n",
              "      <th>2015-10-01</th>\n",
              "    </tr>\n",
              "  </thead>\n",
              "  <tbody>\n",
              "    <tr>\n",
              "      <th>max</th>\n",
              "      <td>81.000000</td>\n",
              "      <td>76.000000</td>\n",
              "      <td>70.000000</td>\n",
              "    </tr>\n",
              "    <tr>\n",
              "      <th>min</th>\n",
              "      <td>5.000000</td>\n",
              "      <td>4.000000</td>\n",
              "      <td>4.000000</td>\n",
              "    </tr>\n",
              "    <tr>\n",
              "      <th>q25</th>\n",
              "      <td>36.000000</td>\n",
              "      <td>32.750000</td>\n",
              "      <td>35.000000</td>\n",
              "    </tr>\n",
              "    <tr>\n",
              "      <th>q75</th>\n",
              "      <td>50.250000</td>\n",
              "      <td>57.000000</td>\n",
              "      <td>53.250000</td>\n",
              "    </tr>\n",
              "    <tr>\n",
              "      <th>mean</th>\n",
              "      <td>43.190476</td>\n",
              "      <td>45.190476</td>\n",
              "      <td>42.404762</td>\n",
              "    </tr>\n",
              "  </tbody>\n",
              "</table>\n",
              "</div>"
            ],
            "text/plain": [
              "      2015-01-01  2015-05-01  2015-10-01\n",
              "max    81.000000   76.000000   70.000000\n",
              "min     5.000000    4.000000    4.000000\n",
              "q25    36.000000   32.750000   35.000000\n",
              "q75    50.250000   57.000000   53.250000\n",
              "mean   43.190476   45.190476   42.404762"
            ]
          },
          "metadata": {
            "tags": []
          },
          "execution_count": 36
        },
        {
          "output_type": "display_data",
          "data": {
            "image/png": "[encoded data removed]",
            "text/plain": [
              "<Figure size 2160x720 with 3 Axes>"
            ]
          },
          "metadata": {
            "tags": [],
            "needs_background": "light"
          }
        }
      ]
    },
    {
      "cell_type": "code",
      "metadata": {
        "id": "CMSPGLKcb8_Z",
        "colab": {
          "base_uri": "https://localhost:8080/",
          "height": 375
        },
        "outputId": "20505273-1182-411d-95dc-51d394bbf84d"
      },
      "source": [
        "tc_2015['Cname'] = tc_2015.index\n",
        "tc_2015['Cname'] = tc_2015['Cname'].map(ic_cname)\n",
        "\n",
        "tc_2015.sort_values(by='2015-05-01', ascending=True, inplace=True)\n",
        "tc_2015[:10]"
      ],
      "execution_count": null,
      "outputs": [
        {
          "output_type": "execute_result",
          "data": {
            "text/html": [
              "<div>\n",
              "<style scoped>\n",
              "    .dataframe tbody tr th:only-of-type {\n",
              "        vertical-align: middle;\n",
              "    }\n",
              "\n",
              "    .dataframe tbody tr th {\n",
              "        vertical-align: top;\n",
              "    }\n",
              "\n",
              "    .dataframe thead th {\n",
              "        text-align: right;\n",
              "    }\n",
              "</style>\n",
              "<table border=\"1\" class=\"dataframe\">\n",
              "  <thead>\n",
              "    <tr style=\"text-align: right;\">\n",
              "      <th></th>\n",
              "      <th>2015-01-01</th>\n",
              "      <th>2015-05-01</th>\n",
              "      <th>2015-10-01</th>\n",
              "      <th>Cname</th>\n",
              "    </tr>\n",
              "    <tr>\n",
              "      <th>Court</th>\n",
              "      <th></th>\n",
              "      <th></th>\n",
              "      <th></th>\n",
              "      <th></th>\n",
              "    </tr>\n",
              "  </thead>\n",
              "  <tbody>\n",
              "    <tr>\n",
              "      <th>4</th>\n",
              "      <td>6</td>\n",
              "      <td>4</td>\n",
              "      <td>8</td>\n",
              "      <td>АС Амурской области</td>\n",
              "    </tr>\n",
              "    <tr>\n",
              "      <th>90</th>\n",
              "      <td>12</td>\n",
              "      <td>5</td>\n",
              "      <td>4</td>\n",
              "      <td>ПСП Арбитражного суда Пермского края</td>\n",
              "    </tr>\n",
              "    <tr>\n",
              "      <th>24</th>\n",
              "      <td>23</td>\n",
              "      <td>11</td>\n",
              "      <td>20</td>\n",
              "      <td>АС Камчатского края</td>\n",
              "    </tr>\n",
              "    <tr>\n",
              "      <th>32</th>\n",
              "      <td>17</td>\n",
              "      <td>15</td>\n",
              "      <td>12</td>\n",
              "      <td>АС Краснодарского края</td>\n",
              "    </tr>\n",
              "    <tr>\n",
              "      <th>83</th>\n",
              "      <td>5</td>\n",
              "      <td>15</td>\n",
              "      <td>19</td>\n",
              "      <td>АС Республики Крым</td>\n",
              "    </tr>\n",
              "    <tr>\n",
              "      <th>56</th>\n",
              "      <td>14</td>\n",
              "      <td>17</td>\n",
              "      <td>13</td>\n",
              "      <td>АС города Санкт-Петербурга и Ленинградской обл...</td>\n",
              "    </tr>\n",
              "    <tr>\n",
              "      <th>38</th>\n",
              "      <td>21</td>\n",
              "      <td>18</td>\n",
              "      <td>19</td>\n",
              "      <td>АС Республики Марий Эл</td>\n",
              "    </tr>\n",
              "    <tr>\n",
              "      <th>48</th>\n",
              "      <td>32</td>\n",
              "      <td>19</td>\n",
              "      <td>13</td>\n",
              "      <td>АС Орловской области</td>\n",
              "    </tr>\n",
              "    <tr>\n",
              "      <th>31</th>\n",
              "      <td>20</td>\n",
              "      <td>19</td>\n",
              "      <td>18</td>\n",
              "      <td>АС Костромской области</td>\n",
              "    </tr>\n",
              "    <tr>\n",
              "      <th>46</th>\n",
              "      <td>26</td>\n",
              "      <td>19</td>\n",
              "      <td>23</td>\n",
              "      <td>АС Омской области</td>\n",
              "    </tr>\n",
              "  </tbody>\n",
              "</table>\n",
              "</div>"
            ],
            "text/plain": [
              "       2015-01-01  ...                                              Cname\n",
              "Court              ...                                                   \n",
              "4               6  ...                                АС Амурской области\n",
              "90             12  ...               ПСП Арбитражного суда Пермского края\n",
              "24             23  ...                                АС Камчатского края\n",
              "32             17  ...                             АС Краснодарского края\n",
              "83              5  ...                                 АС Республики Крым\n",
              "56             14  ...  АС города Санкт-Петербурга и Ленинградской обл...\n",
              "38             21  ...                             АС Республики Марий Эл\n",
              "48             32  ...                               АС Орловской области\n",
              "31             20  ...                             АС Костромской области\n",
              "46             26  ...                                  АС Омской области\n",
              "\n",
              "[10 rows x 4 columns]"
            ]
          },
          "metadata": {
            "tags": []
          },
          "execution_count": 37
        }
      ]
    }
  ]
}
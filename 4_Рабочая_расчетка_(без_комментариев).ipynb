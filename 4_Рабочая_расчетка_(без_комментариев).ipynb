{
  "nbformat": 4,
  "nbformat_minor": 0,
  "metadata": {
    "kernelspec": {
      "display_name": "Python 3",
      "language": "python",
      "name": "python3"
    },
    "language_info": {
      "codemirror_mode": {
        "name": "ipython",
        "version": 3
      },
      "file_extension": ".py",
      "mimetype": "text/x-python",
      "name": "python",
      "nbconvert_exporter": "python",
      "pygments_lexer": "ipython3",
      "version": "3.7.4"
    },
    "colab": {
      "name": "4** Рабочая расчетка (без комментариев)",
      "provenance": [],
      "collapsed_sections": [],
      "toc_visible": true,
      "include_colab_link": true
    }
  },
  "cells": [
    {
      "cell_type": "markdown",
      "metadata": {
        "id": "view-in-github",
        "colab_type": "text"
      },
      "source": [
        "<a href=\"https://colab.research.google.com/github/timmmariya/Empirical-Law-Studies/blob/main/4_%D0%A0%D0%B0%D0%B1%D0%BE%D1%87%D0%B0%D1%8F_%D1%80%D0%B0%D1%81%D1%87%D0%B5%D1%82%D0%BA%D0%B0_(%D0%B1%D0%B5%D0%B7_%D0%BA%D0%BE%D0%BC%D0%BC%D0%B5%D0%BD%D1%82%D0%B0%D1%80%D0%B8%D0%B5%D0%B2).ipynb\" target=\"_parent\"><img src=\"https://colab.research.google.com/assets/colab-badge.svg\" alt=\"Open In Colab\"/></a>"
      ]
    },
    {
      "cell_type": "markdown",
      "metadata": {
        "id": "2aKKumj_iEb0"
      },
      "source": [
        "# Подключение библиотек, установка пакетов"
      ]
    },
    {
      "cell_type": "code",
      "metadata": {
        "id": "exA08jag2O1c",
        "colab": {
          "base_uri": "https://localhost:8080/"
        },
        "outputId": "0c844f00-3826-4bec-bfde-0760bca8f052"
      },
      "source": [
        "%%time \n",
        "\n",
        "# Important library for many geopython libraries\n",
        "!apt install gdal-bin python-gdal python3-gdal \n",
        "# Install rtree - Geopandas requirment\n",
        "!apt install python3-rtree \n",
        "# Install Geopandas\n",
        "!pip install git+git://github.com/geopandas/geopandas.git\n",
        "# Install descartes - Geopandas requirment\n",
        "!pip install descartes \n",
        "# Install Folium for Geographic data visualization\n",
        "!pip install folium\n",
        "# Install plotlyExpress\n",
        "!pip install plotly_express"
      ],
      "execution_count": null,
      "outputs": [
        {
          "output_type": "stream",
          "text": [
            "Reading package lists... Done\n",
            "Building dependency tree       \n",
            "Reading state information... Done\n",
            "gdal-bin is already the newest version (2.2.3+dfsg-2).\n",
            "python-gdal is already the newest version (2.2.3+dfsg-2).\n",
            "python3-gdal is already the newest version (2.2.3+dfsg-2).\n",
            "The following package was automatically installed and is no longer required:\n",
            "  libnvidia-common-460\n",
            "Use 'apt autoremove' to remove it.\n",
            "0 upgraded, 0 newly installed, 0 to remove and 34 not upgraded.\n",
            "Reading package lists... Done\n",
            "Building dependency tree       \n",
            "Reading state information... Done\n",
            "python3-rtree is already the newest version (0.8.3+ds-1).\n",
            "The following package was automatically installed and is no longer required:\n",
            "  libnvidia-common-460\n",
            "Use 'apt autoremove' to remove it.\n",
            "0 upgraded, 0 newly installed, 0 to remove and 34 not upgraded.\n",
            "Collecting git+git://github.com/geopandas/geopandas.git\n",
            "  Cloning git://github.com/geopandas/geopandas.git to /tmp/pip-req-build-seaenqf9\n",
            "  Running command git clone -q git://github.com/geopandas/geopandas.git /tmp/pip-req-build-seaenqf9\n",
            "Requirement already satisfied (use --upgrade to upgrade): geopandas==0.9.0+33.gc6aedba from git+git://github.com/geopandas/geopandas.git in /usr/local/lib/python3.7/dist-packages\n",
            "Requirement already satisfied: pandas>=0.24.0 in /usr/local/lib/python3.7/dist-packages (from geopandas==0.9.0+33.gc6aedba) (1.1.5)\n",
            "Requirement already satisfied: shapely>=1.6 in /usr/local/lib/python3.7/dist-packages (from geopandas==0.9.0+33.gc6aedba) (1.7.1)\n",
            "Requirement already satisfied: fiona>=1.8 in /usr/local/lib/python3.7/dist-packages (from geopandas==0.9.0+33.gc6aedba) (1.8.19)\n",
            "Requirement already satisfied: pyproj>=2.2.0 in /usr/local/lib/python3.7/dist-packages (from geopandas==0.9.0+33.gc6aedba) (3.1.0)\n",
            "Requirement already satisfied: pytz>=2017.2 in /usr/local/lib/python3.7/dist-packages (from pandas>=0.24.0->geopandas==0.9.0+33.gc6aedba) (2018.9)\n",
            "Requirement already satisfied: numpy>=1.15.4 in /usr/local/lib/python3.7/dist-packages (from pandas>=0.24.0->geopandas==0.9.0+33.gc6aedba) (1.19.5)\n",
            "Requirement already satisfied: python-dateutil>=2.7.3 in /usr/local/lib/python3.7/dist-packages (from pandas>=0.24.0->geopandas==0.9.0+33.gc6aedba) (2.8.1)\n",
            "Requirement already satisfied: click<8,>=4.0 in /usr/local/lib/python3.7/dist-packages (from fiona>=1.8->geopandas==0.9.0+33.gc6aedba) (7.1.2)\n",
            "Requirement already satisfied: attrs>=17 in /usr/local/lib/python3.7/dist-packages (from fiona>=1.8->geopandas==0.9.0+33.gc6aedba) (21.2.0)\n",
            "Requirement already satisfied: six>=1.7 in /usr/local/lib/python3.7/dist-packages (from fiona>=1.8->geopandas==0.9.0+33.gc6aedba) (1.15.0)\n",
            "Requirement already satisfied: certifi in /usr/local/lib/python3.7/dist-packages (from fiona>=1.8->geopandas==0.9.0+33.gc6aedba) (2020.12.5)\n",
            "Requirement already satisfied: munch in /usr/local/lib/python3.7/dist-packages (from fiona>=1.8->geopandas==0.9.0+33.gc6aedba) (2.5.0)\n",
            "Requirement already satisfied: cligj>=0.5 in /usr/local/lib/python3.7/dist-packages (from fiona>=1.8->geopandas==0.9.0+33.gc6aedba) (0.7.2)\n",
            "Requirement already satisfied: click-plugins>=1.0 in /usr/local/lib/python3.7/dist-packages (from fiona>=1.8->geopandas==0.9.0+33.gc6aedba) (1.1.1)\n",
            "Building wheels for collected packages: geopandas\n",
            "  Building wheel for geopandas (setup.py) ... \u001b[?25l\u001b[?25hdone\n",
            "  Created wheel for geopandas: filename=geopandas-0.9.0+33.gc6aedba-py2.py3-none-any.whl size=996295 sha256=449ad1d5129c24f2879cb622b731784d06cac1c78eca6c96a43a9a83a7e6bd17\n",
            "  Stored in directory: /tmp/pip-ephem-wheel-cache-kcg0u98j/wheels/91/24/71/376c9c67192694168352afcccc2d264248f7e2cc6192997186\n",
            "Successfully built geopandas\n",
            "Requirement already satisfied: descartes in /usr/local/lib/python3.7/dist-packages (1.1.0)\n",
            "Requirement already satisfied: matplotlib in /usr/local/lib/python3.7/dist-packages (from descartes) (3.2.2)\n",
            "Requirement already satisfied: kiwisolver>=1.0.1 in /usr/local/lib/python3.7/dist-packages (from matplotlib->descartes) (1.3.1)\n",
            "Requirement already satisfied: cycler>=0.10 in /usr/local/lib/python3.7/dist-packages (from matplotlib->descartes) (0.10.0)\n",
            "Requirement already satisfied: pyparsing!=2.0.4,!=2.1.2,!=2.1.6,>=2.0.1 in /usr/local/lib/python3.7/dist-packages (from matplotlib->descartes) (2.4.7)\n",
            "Requirement already satisfied: python-dateutil>=2.1 in /usr/local/lib/python3.7/dist-packages (from matplotlib->descartes) (2.8.1)\n",
            "Requirement already satisfied: numpy>=1.11 in /usr/local/lib/python3.7/dist-packages (from matplotlib->descartes) (1.19.5)\n",
            "Requirement already satisfied: six in /usr/local/lib/python3.7/dist-packages (from cycler>=0.10->matplotlib->descartes) (1.15.0)\n",
            "Requirement already satisfied: folium in /usr/local/lib/python3.7/dist-packages (0.8.3)\n",
            "Requirement already satisfied: numpy in /usr/local/lib/python3.7/dist-packages (from folium) (1.19.5)\n",
            "Requirement already satisfied: six in /usr/local/lib/python3.7/dist-packages (from folium) (1.15.0)\n",
            "Requirement already satisfied: jinja2 in /usr/local/lib/python3.7/dist-packages (from folium) (2.11.3)\n",
            "Requirement already satisfied: branca>=0.3.0 in /usr/local/lib/python3.7/dist-packages (from folium) (0.4.2)\n",
            "Requirement already satisfied: requests in /usr/local/lib/python3.7/dist-packages (from folium) (2.23.0)\n",
            "Requirement already satisfied: MarkupSafe>=0.23 in /usr/local/lib/python3.7/dist-packages (from jinja2->folium) (2.0.1)\n",
            "Requirement already satisfied: chardet<4,>=3.0.2 in /usr/local/lib/python3.7/dist-packages (from requests->folium) (3.0.4)\n",
            "Requirement already satisfied: urllib3!=1.25.0,!=1.25.1,<1.26,>=1.21.1 in /usr/local/lib/python3.7/dist-packages (from requests->folium) (1.24.3)\n",
            "Requirement already satisfied: idna<3,>=2.5 in /usr/local/lib/python3.7/dist-packages (from requests->folium) (2.10)\n",
            "Requirement already satisfied: certifi>=2017.4.17 in /usr/local/lib/python3.7/dist-packages (from requests->folium) (2020.12.5)\n",
            "Requirement already satisfied: plotly_express in /usr/local/lib/python3.7/dist-packages (0.4.1)\n",
            "Requirement already satisfied: scipy>=0.18 in /usr/local/lib/python3.7/dist-packages (from plotly_express) (1.4.1)\n",
            "Requirement already satisfied: numpy>=1.11 in /usr/local/lib/python3.7/dist-packages (from plotly_express) (1.19.5)\n",
            "Requirement already satisfied: patsy>=0.5 in /usr/local/lib/python3.7/dist-packages (from plotly_express) (0.5.1)\n",
            "Requirement already satisfied: plotly>=4.1.0 in /usr/local/lib/python3.7/dist-packages (from plotly_express) (4.4.1)\n",
            "Requirement already satisfied: statsmodels>=0.9.0 in /usr/local/lib/python3.7/dist-packages (from plotly_express) (0.10.2)\n",
            "Requirement already satisfied: pandas>=0.20.0 in /usr/local/lib/python3.7/dist-packages (from plotly_express) (1.1.5)\n",
            "Requirement already satisfied: six in /usr/local/lib/python3.7/dist-packages (from patsy>=0.5->plotly_express) (1.15.0)\n",
            "Requirement already satisfied: retrying>=1.3.3 in /usr/local/lib/python3.7/dist-packages (from plotly>=4.1.0->plotly_express) (1.3.3)\n",
            "Requirement already satisfied: python-dateutil>=2.7.3 in /usr/local/lib/python3.7/dist-packages (from pandas>=0.20.0->plotly_express) (2.8.1)\n",
            "Requirement already satisfied: pytz>=2017.2 in /usr/local/lib/python3.7/dist-packages (from pandas>=0.20.0->plotly_express) (2018.9)\n",
            "CPU times: user 208 ms, sys: 62.4 ms, total: 271 ms\n",
            "Wall time: 18.9 s\n"
          ],
          "name": "stdout"
        }
      ]
    },
    {
      "cell_type": "code",
      "metadata": {
        "id": "Har17ZiL294J"
      },
      "source": [
        "import pandas as pd\n",
        "import numpy as np\n",
        "import geopandas as gpd\n",
        "from shapely.geometry import Point\n",
        "import matplotlib.pyplot as plt\n",
        "import matplotlib.patches as mpatches\n",
        "from scipy import stats\n",
        "import locale\n",
        "from PIL import Image"
      ],
      "execution_count": null,
      "outputs": []
    },
    {
      "cell_type": "code",
      "metadata": {
        "id": "oohGOXgDoeCN",
        "colab": {
          "base_uri": "https://localhost:8080/"
        },
        "outputId": "4bfe42c5-7e43-4e4c-ade3-15f967d8bcbb"
      },
      "source": [
        "from google.colab import drive\n",
        "drive.mount('/content/drive', force_remount=True)"
      ],
      "execution_count": null,
      "outputs": [
        {
          "output_type": "stream",
          "text": [
            "Mounted at /content/drive\n"
          ],
          "name": "stdout"
        }
      ]
    },
    {
      "cell_type": "markdown",
      "metadata": {
        "id": "TJHBuLlW_uiP"
      },
      "source": [
        "https://colab.research.google.com/github/shakasom/GDS/blob/master/Part1%20-%20Introduction.ipynb#scrollTo=A91qAwyjOTs8"
      ]
    },
    {
      "cell_type": "markdown",
      "metadata": {
        "id": "oHkC8A2eiLoR"
      },
      "source": [
        "# Загрузка и настраивание проекции карты России"
      ]
    },
    {
      "cell_type": "code",
      "metadata": {
        "id": "soi0wJS03Drw"
      },
      "source": [
        "regions = gpd.read_file('/content/drive/MyDrive/НУЛ АДП Материалы Марии Тимониной/_data/RegionsFolder/russia_forest_25people.geojson')"
      ],
      "execution_count": null,
      "outputs": []
    },
    {
      "cell_type": "markdown",
      "metadata": {
        "id": "4IT3jWhnIUtX"
      },
      "source": [
        "https://habr.com/ru/post/459902/"
      ]
    },
    {
      "cell_type": "code",
      "metadata": {
        "id": "oTnTbvk9ZtGC"
      },
      "source": [
        "regions = regions.to_crs('ESRI:102012')"
      ],
      "execution_count": null,
      "outputs": []
    },
    {
      "cell_type": "markdown",
      "metadata": {
        "id": "MNF-Y0zxiYTR"
      },
      "source": [
        "## Сопоставление кодов Арбитражных судов и регионов России из датафрейма карты"
      ]
    },
    {
      "cell_type": "markdown",
      "metadata": {
        "id": "AxfiOyMZiqbA"
      },
      "source": [
        "# Рассчет матриц проверки гипотезы о средних для заданных дат и уровня значимости"
      ]
    },
    {
      "cell_type": "code",
      "metadata": {
        "id": "Fo4gBdMLhUtZ"
      },
      "source": [
        "pathid = \"/content/drive/MyDrive/НУЛ АДП Материалы Марии Тимониной/_data/id_regionid.csv\"\n",
        "id_regid = pd.read_csv(pathid, sep=';')"
      ],
      "execution_count": null,
      "outputs": []
    },
    {
      "cell_type": "code",
      "metadata": {
        "id": "tshjXZw_4FsA"
      },
      "source": [
        "dict_ids = id_regid.set_index('ID').to_dict()['RID']"
      ],
      "execution_count": null,
      "outputs": []
    },
    {
      "cell_type": "code",
      "metadata": {
        "id": "SZq6jBezEL6P"
      },
      "source": [
        "#dict_ids"
      ],
      "execution_count": null,
      "outputs": []
    },
    {
      "cell_type": "code",
      "metadata": {
        "id": "DlLF9sd06kJb"
      },
      "source": [
        "path = \"/content/drive/MyDrive/НУЛ АДП Материалы Марии Тимониной/_data/twenty_years_base/2015_2020_cleaned_dates.csv\"\n",
        "df = pd.read_csv(path, sep=',')\n",
        "\n",
        "df['StartDate'] = pd.to_datetime(df['StartDate'])\n",
        "df['FinishDate'] = pd.to_datetime(df['FinishDate'])\n",
        "\n",
        "df = df[df['CategoryID'] < 203]"
      ],
      "execution_count": null,
      "outputs": []
    },
    {
      "cell_type": "code",
      "metadata": {
        "colab": {
          "base_uri": "https://localhost:8080/"
        },
        "id": "odsVnc2bD5uu",
        "outputId": "17f1cfc3-e4d3-4caa-e009-01eb1e5ee259"
      },
      "source": [
        "df.shape[0]"
      ],
      "execution_count": null,
      "outputs": [
        {
          "output_type": "execute_result",
          "data": {
            "text/plain": [
              "379994"
            ]
          },
          "metadata": {
            "tags": []
          },
          "execution_count": 10
        }
      ]
    },
    {
      "cell_type": "code",
      "metadata": {
        "id": "R8u8bGiI70D1"
      },
      "source": [
        "def K_value(categ1, categ2, df_work) :\n",
        "    mean1 = df_work.at[categ1, 'mean']\n",
        "    mean2 = df_work.at[categ2, 'mean']\n",
        "\n",
        "    std1 = df_work.at[categ1, 'std']\n",
        "    std2 = df_work.at[categ2, 'std']\n",
        "\n",
        "    n1 = df_work.at[categ1, 'count']\n",
        "    n2 = df_work.at[categ2, 'count']\n",
        "\n",
        "    k = (mean1 - mean2) / np.sqrt(std1 * std1 / n1 + std2 * std2 / n2)\n",
        "    return k\n",
        "\n",
        "def norm_distr_quantiles(alpha) :\n",
        "    norm_rv = stats.norm(loc=0, scale=1)  # задали генератор \n",
        "    sample = norm_rv.rvs(1000)  # сгенерируем 1000 значений\n",
        "\n",
        "    gamma = 1 - alpha / 2\n",
        "\n",
        "    q_right = norm_rv.ppf(gamma)\n",
        "    q_left = (-1) * q_right\n",
        "    return gamma, q_left, q_right"
      ],
      "execution_count": null,
      "outputs": []
    },
    {
      "cell_type": "code",
      "metadata": {
        "id": "QQCrb7W07irc"
      },
      "source": [
        "from datetime import datetime as dt\n",
        "from datetime import timedelta\n",
        "\n",
        "courts_met = df.groupby('CourtID')['ConsidTime'].agg(['count']).index.to_list()\n",
        "courtot = len(courts_met)\n",
        "\n",
        "def pairwise_hypothesis_test_courts(left_border_date, right_border_date, dest, alpha=0.05, min_count=0, fs=15, df=df) :\n",
        "\n",
        "    # отбор из полной базы всех дел за период от левой граничной даты до правой\n",
        "    df_parse = df[(df['StartDate'] <= pd.to_datetime(right_border_date)) & (df['FinishDate'] >= pd.to_datetime(left_border_date))]\n",
        "    # подсчет средних, стандартных отклонений, кол-ва дел для каждой из категорий -> сохранение в dataframe df_work\n",
        "    df_work = df_parse.groupby('CourtID')['ConsidTime'].agg(['mean', 'std', 'count'])\n",
        "    # рассматриваются только состоятельные категории, содержащие не менее min_count дел\n",
        "    df_work = df_work[df_work['count'] > min_count]\n",
        "\n",
        "    court_list_used = df_work.index\n",
        "    cnum = len(court_list_used)\n",
        "\n",
        "    useid = [0 for i in range(cnum)]\n",
        "    p = 0\n",
        "    for i in range(cnum) :\n",
        "        while (courts_met[p] < court_list_used[i]) :\n",
        "          p += 1\n",
        "        useid[i] = p\n",
        "        p += 1\n",
        "\n",
        "    # Подсчет значения критерия К для всех пар категорий\n",
        "    kdata = [[0] * courtot for i in range(courtot)]\n",
        "    for i in range(cnum) :\n",
        "        for j in range(cnum) :\n",
        "            ii = useid[i]\n",
        "            jj = useid[j]\n",
        "            kdata[ii][jj] = K_value(court_list_used[i], court_list_used[j], df_work)\n",
        "    df_kcrit = pd.DataFrame(kdata, index=range(courtot), columns=range(courtot))\n",
        "\n",
        "    # определение границ доверительного интервала\n",
        "    gamma, q_left, q_right = norm_distr_quantiles(alpha)\n",
        "    # проверка гипотезы о равенстве средних для каждой пары\n",
        "    hy_data = [[2] * courtot for i in range(courtot)]\n",
        "    for i in range(cnum) :\n",
        "        for j in range(cnum) :\n",
        "            ii = useid[i]\n",
        "            jj = useid[j]\n",
        "            if (kdata[ii][jj] > q_left) and (kdata[ii][jj] < q_right) :\n",
        "                hy_data[ii][jj] = 1\n",
        "            else :\n",
        "                hy_data[ii][jj] = 0\n",
        "    df_hypo = pd.DataFrame(hy_data, index=range(courtot), columns=range(courtot))\n",
        "\n",
        "    fits = [0 for i in range(courtot)]\n",
        "    for i in range(cnum) :\n",
        "        sum = 0\n",
        "        for j in range(cnum) :\n",
        "            ii = useid[i]\n",
        "            jj = useid[j]\n",
        "            sum += hy_data[ii][jj]\n",
        "        fits[useid[i]] = sum\n",
        "    dest['fits'] = fits\n",
        "\n",
        "    #sns.heatmap(df_hypo, square=True, ax=axi, cbar=False)"
      ],
      "execution_count": null,
      "outputs": []
    },
    {
      "cell_type": "code",
      "metadata": {
        "id": "GxOYDaVaVpEU"
      },
      "source": [
        "def create_regions_map_from_hypo_matrix(start_date, period, q_of_shown=15) :\n",
        "    lb = pd.to_datetime(start_date)\n",
        "    rb = pd.to_datetime(lb) + pd.to_timedelta(period)\n",
        "\n",
        "    tc = pd.DataFrame([courts_met]).transpose()\n",
        "    tc.rename(columns={0 : 'Court'}, inplace=True)\n",
        "\n",
        "    pairwise_hypothesis_test_courts(lb, rb, tc, alpha=0.1)\n",
        "\n",
        "    tc.set_index('Court', inplace=True)\n",
        "    tc['Region_id'] = tc.index.map(dict_ids)\n",
        "\n",
        "    tc.sort_values(by='fits', ascending=True, inplace=True)\n",
        "    df_test = tc[['fits', 'Region_id']].set_index('Region_id')\n",
        "\n",
        "    def change(x, border) :\n",
        "      if x in border:\n",
        "          return 1\n",
        "      else:\n",
        "          return 0\n",
        "\n",
        "    reg_test = regions[['id', 'main_name', 'geometry']]\n",
        "    reg_test.set_index('id', inplace=True)\n",
        "\n",
        "    df_joined = reg_test.join(df_test)\n",
        "    border = df_joined.sort_values(by=['fits', 'main_name'])['main_name'].values[:(q_of_shown - 1)]\n",
        "    df_joined['show'] = df_joined['main_name'].apply(lambda x: change(x, border))\n",
        "    print((df_joined['show'] == 1).sum())\n",
        "    list_show = df_joined[df_joined['show'] == 1].sort_values(by='main_name')['main_name'].values\n",
        "    str_show = ''\n",
        "    for word in list_show:\n",
        "        str_show += word\n",
        "        str_show += '\\n\\n'\n",
        "\n",
        "    fig, ax = plt.subplots(1, figsize=(30, 10))\n",
        "    ax.axis('off')\n",
        "\n",
        "    # add a title and annotation\n",
        "    ax.set_title('Регионы РФ c отличительной средней Продолжительностью рассмотрения дел', fontdict={'fontsize': '20', 'fontweight' : '3'})\n",
        "    ax.annotate('Источник: Картотека арбитражных дел РФ', xy=(0.6, .05), xycoords='figure fraction', fontsize=12, color='#555555')\n",
        "\n",
        "    regtext = mpatches.Patch(label=str_show, color='white', linewidth=0)\n",
        "    plt.legend(handles=[regtext], bbox_to_anchor=(0.97, 0.95), loc='upper left', borderaxespad=0., facecolor='white', fontsize=13)\n",
        "    ax.annotate(lb.strftime(\"%B %Y\") + ' - '+ rb.strftime(\"%B %Y\"), xy=(0.3, .2), xycoords='figure fraction', fontsize=15, color='k')\n",
        "    df_joined.plot(column='show', cmap='Blues', linewidth=0.8, ax=ax, edgecolor='0.8')\n",
        "\n",
        "    plt.tight_layout()\n",
        "    plt.savefig('/content/drive/MyDrive/НУЛ АДП Материалы Марии Тимониной/_Colab Notebooks НУЛ АДП/pics/' + lb.strftime(\"%Y-%m-%d\") + '.png')\n",
        "    plt.close(fig)"
      ],
      "execution_count": null,
      "outputs": []
    },
    {
      "cell_type": "code",
      "metadata": {
        "colab": {
          "base_uri": "https://localhost:8080/"
        },
        "id": "YnQO4_NOYQ7N",
        "outputId": "d78106a5-b983-453a-db19-4d8343f38922"
      },
      "source": [
        "from datetime import timedelta\n",
        "from datetime import datetime as dt\n",
        "\n",
        "base = 2015\n",
        "\n",
        "for i in range(5) :\n",
        "    for j in range(2):\n",
        "        start_date = dt(base + i, 5*j + 1, 1)\n",
        "        create_regions_map_from_hypo_matrix(start_date, timedelta(days=364), q_of_shown=15)\n",
        "        print(start_date)"
      ],
      "execution_count": null,
      "outputs": [
        {
          "output_type": "stream",
          "text": [
            "14\n",
            "2015-01-01 00:00:00\n",
            "14\n",
            "2015-06-01 00:00:00\n",
            "15\n",
            "2016-01-01 00:00:00\n",
            "15\n",
            "2016-06-01 00:00:00\n",
            "15\n",
            "2017-01-01 00:00:00\n",
            "15\n",
            "2017-06-01 00:00:00\n",
            "15\n",
            "2018-01-01 00:00:00\n",
            "15\n",
            "2018-06-01 00:00:00\n",
            "15\n",
            "2019-01-01 00:00:00\n",
            "15\n",
            "2019-06-01 00:00:00\n"
          ],
          "name": "stdout"
        }
      ]
    },
    {
      "cell_type": "code",
      "metadata": {
        "id": "S6gWqwXAzC0V"
      },
      "source": [
        "\n",
        "#im = Image.open('/content/drive/MyDrive/НУЛ АДП Материалы Марии Тимониной/_Colab Notebooks НУЛ АДП/pics/first_check.png')\n",
        "\n",
        "#im.crop((100, 75, 300, 150))"
      ],
      "execution_count": null,
      "outputs": []
    }
  ]
}
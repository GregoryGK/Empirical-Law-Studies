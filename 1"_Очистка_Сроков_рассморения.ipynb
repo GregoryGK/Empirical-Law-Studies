{
  "nbformat": 4,
  "nbformat_minor": 0,
  "metadata": {
    "colab": {
      "name": "1* Очистка Сроков рассморения.ipynb\"",
      "provenance": [],
      "collapsed_sections": [],
      "toc_visible": true,
      "include_colab_link": true
    },
    "kernelspec": {
      "display_name": "Python 3",
      "language": "python",
      "name": "python3"
    },
    "language_info": {
      "codemirror_mode": {
        "name": "ipython",
        "version": 3
      },
      "file_extension": ".py",
      "mimetype": "text/x-python",
      "name": "python",
      "nbconvert_exporter": "python",
      "pygments_lexer": "ipython3",
      "version": "3.7.4"
    }
  },
  "cells": [
    {
      "cell_type": "markdown",
      "metadata": {
        "id": "view-in-github",
        "colab_type": "text"
      },
      "source": [
        "<a href=\"https://colab.research.google.com/github/timmmariya/Empirical-Law-Studies/blob/main/1%22_%D0%9E%D1%87%D0%B8%D1%81%D1%82%D0%BA%D0%B0_%D0%A1%D1%80%D0%BE%D0%BA%D0%BE%D0%B2_%D1%80%D0%B0%D1%81%D1%81%D0%BC%D0%BE%D1%80%D0%B5%D0%BD%D0%B8%D1%8F.ipynb\" target=\"_parent\"><img src=\"https://colab.research.google.com/assets/colab-badge.svg\" alt=\"Open In Colab\"/></a>"
      ]
    },
    {
      "cell_type": "code",
      "metadata": {
        "id": "7BQxPQrQoeCB"
      },
      "source": [
        "import numpy as np          # библиотека для матриц и математики\n",
        "import pandas as pd         # библиотека для работы с табличками\n",
        "from scipy import stats     # модуль для работы со статистикой\n",
        "from matplotlib import colors\n",
        "\n",
        "#библиотеки для визуализации\n",
        "import matplotlib.pyplot as plt\n",
        "import seaborn as sns\n",
        "\n",
        "plt.style.use('ggplot') # стиль графиков\n",
        "%matplotlib inline"
      ],
      "execution_count": null,
      "outputs": []
    },
    {
      "cell_type": "code",
      "metadata": {
        "colab": {
          "base_uri": "https://localhost:8080/"
        },
        "id": "oohGOXgDoeCN",
        "outputId": "a2e641fd-3e05-4d98-c151-90615c0cb9a7"
      },
      "source": [
        "from google.colab import drive\n",
        "drive.mount('/content/drive', force_remount=True)"
      ],
      "execution_count": null,
      "outputs": [
        {
          "output_type": "stream",
          "text": [
            "Mounted at /content/drive\n"
          ],
          "name": "stdout"
        }
      ]
    },
    {
      "cell_type": "code",
      "metadata": {
        "id": "KI6cfQg5oeCO"
      },
      "source": [
        "path = \"/content/drive/MyDrive/НУЛ АДП Материалы Марии Тимониной/_data/twenty_years_base/2010_2014.csv\"\n",
        "df = pd.read_csv(path, sep=',')"
      ],
      "execution_count": null,
      "outputs": []
    },
    {
      "cell_type": "code",
      "metadata": {
        "id": "QohXdhEduF25",
        "colab": {
          "base_uri": "https://localhost:8080/"
        },
        "outputId": "c08e1d88-dfe7-4ba2-a4de-de80779c90a9"
      },
      "source": [
        "(df['FinishDate'] > '2022-**-**').sum()"
      ],
      "execution_count": null,
      "outputs": [
        {
          "output_type": "execute_result",
          "data": {
            "text/plain": [
              "61"
            ]
          },
          "metadata": {
            "tags": []
          },
          "execution_count": 4
        }
      ]
    },
    {
      "cell_type": "code",
      "metadata": {
        "id": "I2dBySB-QDKa"
      },
      "source": [
        "df = df[df['FinishDate'] < '2022-**-**']"
      ],
      "execution_count": null,
      "outputs": []
    },
    {
      "cell_type": "code",
      "metadata": {
        "colab": {
          "base_uri": "https://localhost:8080/"
        },
        "id": "GeZewqUvW4lT",
        "outputId": "a9c0c30d-1a29-49cf-df34-11be99bac82e"
      },
      "source": [
        "df['StartDate'].sort_values().head()"
      ],
      "execution_count": null,
      "outputs": [
        {
          "output_type": "execute_result",
          "data": {
            "text/plain": [
              "4872939    1900-01-01\n",
              "5849866    1993-01-13\n",
              "2835991    1993-01-25\n",
              "4322386    1993-02-18\n",
              "6976478    1993-05-19\n",
              "Name: StartDate, dtype: object"
            ]
          },
          "metadata": {
            "tags": []
          },
          "execution_count": 6
        }
      ]
    },
    {
      "cell_type": "code",
      "metadata": {
        "id": "Zg0IkPpWXQRQ"
      },
      "source": [
        "df = df[df['StartDate'] > '1990-**-**']"
      ],
      "execution_count": null,
      "outputs": []
    },
    {
      "cell_type": "code",
      "metadata": {
        "id": "s6iFoCviFG4M"
      },
      "source": [
        "# каст из строк к датам - подсказка для python, чтобы сократить\n",
        "# количество приведений типов при дальнейших вычислениях\n",
        "df['StartDate'] = pd.to_datetime(df['StartDate'])\n",
        "df['FinishDate'] = pd.to_datetime(df['FinishDate'], errors='coerce')\n",
        "df['ConsidTime'] = df['FinishDate'] - df['StartDate']\n",
        "\n",
        "df['ConsidTime'] = pd.to_timedelta(df['ConsidTime'], unit='D')"
      ],
      "execution_count": null,
      "outputs": []
    },
    {
      "cell_type": "markdown",
      "metadata": {
        "id": "4IAi1J6dOwRM"
      },
      "source": [
        "#### Теперь обрабатываемый датасет хранится в следующем виде:"
      ]
    },
    {
      "cell_type": "code",
      "metadata": {
        "colab": {
          "base_uri": "https://localhost:8080/",
          "height": 199
        },
        "id": "sPFoOOzHJsl6",
        "outputId": "bb769232-9c5a-40e4-f12f-dd57f7c59740"
      },
      "source": [
        "df.head()"
      ],
      "execution_count": null,
      "outputs": [
        {
          "output_type": "execute_result",
          "data": {
            "text/html": [
              "<div>\n",
              "<style scoped>\n",
              "    .dataframe tbody tr th:only-of-type {\n",
              "        vertical-align: middle;\n",
              "    }\n",
              "\n",
              "    .dataframe tbody tr th {\n",
              "        vertical-align: top;\n",
              "    }\n",
              "\n",
              "    .dataframe thead th {\n",
              "        text-align: right;\n",
              "    }\n",
              "</style>\n",
              "<table border=\"1\" class=\"dataframe\">\n",
              "  <thead>\n",
              "    <tr style=\"text-align: right;\">\n",
              "      <th></th>\n",
              "      <th>CaseID</th>\n",
              "      <th>StartDate</th>\n",
              "      <th>FinishDate</th>\n",
              "      <th>CourtID</th>\n",
              "      <th>CategoryID</th>\n",
              "      <th>ClaimSum</th>\n",
              "      <th>RecoverySum</th>\n",
              "      <th>ConsidTime</th>\n",
              "    </tr>\n",
              "  </thead>\n",
              "  <tbody>\n",
              "    <tr>\n",
              "      <th>0</th>\n",
              "      <td>CCC5C8FC-18F8-4263-89AB-00000008BB6D</td>\n",
              "      <td>2010-05-27</td>\n",
              "      <td>2010-08-12</td>\n",
              "      <td>17</td>\n",
              "      <td>77</td>\n",
              "      <td>125302.48</td>\n",
              "      <td>NaN</td>\n",
              "      <td>77 days</td>\n",
              "    </tr>\n",
              "    <tr>\n",
              "      <th>1</th>\n",
              "      <td>5B63D497-B664-47C8-BA91-0000008D3DA6</td>\n",
              "      <td>2013-05-28</td>\n",
              "      <td>2013-11-15</td>\n",
              "      <td>40</td>\n",
              "      <td>9</td>\n",
              "      <td>822478.73</td>\n",
              "      <td>8822478.73</td>\n",
              "      <td>171 days</td>\n",
              "    </tr>\n",
              "    <tr>\n",
              "      <th>2</th>\n",
              "      <td>9B82102F-19F2-4D9D-847A-0000028A0E8D</td>\n",
              "      <td>2014-08-04</td>\n",
              "      <td>2014-10-22</td>\n",
              "      <td>35</td>\n",
              "      <td>159</td>\n",
              "      <td>0.00</td>\n",
              "      <td>NaN</td>\n",
              "      <td>79 days</td>\n",
              "    </tr>\n",
              "    <tr>\n",
              "      <th>3</th>\n",
              "      <td>286CE894-23B9-48A5-A832-0000029A1005</td>\n",
              "      <td>2010-06-29</td>\n",
              "      <td>2011-03-24</td>\n",
              "      <td>55</td>\n",
              "      <td>22</td>\n",
              "      <td>14868.02</td>\n",
              "      <td>8134.01</td>\n",
              "      <td>268 days</td>\n",
              "    </tr>\n",
              "    <tr>\n",
              "      <th>4</th>\n",
              "      <td>225F2DBD-DEC1-4CE5-A220-00000EF99B7C</td>\n",
              "      <td>2009-12-01</td>\n",
              "      <td>2010-06-22</td>\n",
              "      <td>56</td>\n",
              "      <td>179</td>\n",
              "      <td>93.40</td>\n",
              "      <td>NaN</td>\n",
              "      <td>203 days</td>\n",
              "    </tr>\n",
              "  </tbody>\n",
              "</table>\n",
              "</div>"
            ],
            "text/plain": [
              "                                 CaseID  StartDate  ... RecoverySum  ConsidTime\n",
              "0  CCC5C8FC-18F8-4263-89AB-00000008BB6D 2010-05-27  ...         NaN     77 days\n",
              "1  5B63D497-B664-47C8-BA91-0000008D3DA6 2013-05-28  ...  8822478.73    171 days\n",
              "2  9B82102F-19F2-4D9D-847A-0000028A0E8D 2014-08-04  ...         NaN     79 days\n",
              "3  286CE894-23B9-48A5-A832-0000029A1005 2010-06-29  ...     8134.01    268 days\n",
              "4  225F2DBD-DEC1-4CE5-A220-00000EF99B7C 2009-12-01  ...         NaN    203 days\n",
              "\n",
              "[5 rows x 8 columns]"
            ]
          },
          "metadata": {
            "tags": []
          },
          "execution_count": 9
        }
      ]
    },
    {
      "cell_type": "markdown",
      "metadata": {
        "id": "FA-sIV4PdD4u"
      },
      "source": [
        "## **Базовые проверки на корректность**"
      ]
    },
    {
      "cell_type": "markdown",
      "metadata": {
        "id": "9FPPuDtqm-vp"
      },
      "source": [
        "#### Содержит ли база **строки-дубликаты**? \n",
        "\n",
        "Если да, то следует исключить повторения - каждое дело должно учитываться ровно 1 раз"
      ]
    },
    {
      "cell_type": "code",
      "metadata": {
        "colab": {
          "base_uri": "https://localhost:8080/"
        },
        "id": "igb-po3Bt4bq",
        "outputId": "ebf92d1d-1023-41bb-f7d8-a9db97714230"
      },
      "source": [
        "len1 = df.shape[0]\n",
        "print('Записей до чистки дубликатов:', len1)\n",
        "df = df.drop_duplicates()\n",
        "len2 = df.shape[0]\n",
        "print('После чистки:', len2)\n",
        "\n",
        "if (len1 > len2) :\n",
        "  print('\\nОбнаружены дубликаты записей! Исключено ', (len1 - len2), ' дел')\n",
        "else :\n",
        "  print('\\nДанные чистые! Дубликатов нет')"
      ],
      "execution_count": null,
      "outputs": [
        {
          "output_type": "stream",
          "text": [
            "Записей до чистки дубликатов: 7189837\n",
            "После чистки: 7189837\n",
            "\n",
            "Данные чистые! Дубликатов нет\n"
          ],
          "name": "stdout"
        }
      ]
    },
    {
      "cell_type": "markdown",
      "metadata": {
        "id": "mE3DUhqD_2Q2"
      },
      "source": [
        "\n",
        "#### **Про сроки расмотрения**\n",
        "При ручном вводе информации о деле в базу КАД случаются ошибки в наборе дат. Отследить и удалить из рассмотрения возможно только записи, содержащие противоречивую информацию - **отрицательное знаение в столбце \"Продолжительность\"** (дата конца меньше даты начала)."
      ]
    },
    {
      "cell_type": "code",
      "metadata": {
        "colab": {
          "base_uri": "https://localhost:8080/",
          "height": 1000
        },
        "id": "239EF4xRqVPQ",
        "outputId": "bcda8d17-90db-4aa8-9e6c-23ec70cf9acf"
      },
      "source": [
        "df.groupby('CategoryID')['ConsidTime'].agg(['min', 'max'])"
      ],
      "execution_count": null,
      "outputs": [
        {
          "output_type": "execute_result",
          "data": {
            "text/html": [
              "<div>\n",
              "<style scoped>\n",
              "    .dataframe tbody tr th:only-of-type {\n",
              "        vertical-align: middle;\n",
              "    }\n",
              "\n",
              "    .dataframe tbody tr th {\n",
              "        vertical-align: top;\n",
              "    }\n",
              "\n",
              "    .dataframe thead th {\n",
              "        text-align: right;\n",
              "    }\n",
              "</style>\n",
              "<table border=\"1\" class=\"dataframe\">\n",
              "  <thead>\n",
              "    <tr style=\"text-align: right;\">\n",
              "      <th></th>\n",
              "      <th>min</th>\n",
              "      <th>max</th>\n",
              "    </tr>\n",
              "    <tr>\n",
              "      <th>CategoryID</th>\n",
              "      <th></th>\n",
              "      <th></th>\n",
              "    </tr>\n",
              "  </thead>\n",
              "  <tbody>\n",
              "    <tr>\n",
              "      <th>1</th>\n",
              "      <td>-477 days</td>\n",
              "      <td>6861 days</td>\n",
              "    </tr>\n",
              "    <tr>\n",
              "      <th>3</th>\n",
              "      <td>-630 days</td>\n",
              "      <td>7040 days</td>\n",
              "    </tr>\n",
              "    <tr>\n",
              "      <th>4</th>\n",
              "      <td>-918 days</td>\n",
              "      <td>8718 days</td>\n",
              "    </tr>\n",
              "    <tr>\n",
              "      <th>9</th>\n",
              "      <td>-655 days</td>\n",
              "      <td>8235 days</td>\n",
              "    </tr>\n",
              "    <tr>\n",
              "      <th>11</th>\n",
              "      <td>-630 days</td>\n",
              "      <td>8266 days</td>\n",
              "    </tr>\n",
              "    <tr>\n",
              "      <th>13</th>\n",
              "      <td>-139 days</td>\n",
              "      <td>4310 days</td>\n",
              "    </tr>\n",
              "    <tr>\n",
              "      <th>14</th>\n",
              "      <td>-894 days</td>\n",
              "      <td>7202 days</td>\n",
              "    </tr>\n",
              "    <tr>\n",
              "      <th>18</th>\n",
              "      <td>-648 days</td>\n",
              "      <td>6550 days</td>\n",
              "    </tr>\n",
              "    <tr>\n",
              "      <th>19</th>\n",
              "      <td>-203 days</td>\n",
              "      <td>4638 days</td>\n",
              "    </tr>\n",
              "    <tr>\n",
              "      <th>20</th>\n",
              "      <td>-715 days</td>\n",
              "      <td>8507 days</td>\n",
              "    </tr>\n",
              "    <tr>\n",
              "      <th>21</th>\n",
              "      <td>-405 days</td>\n",
              "      <td>5852 days</td>\n",
              "    </tr>\n",
              "    <tr>\n",
              "      <th>22</th>\n",
              "      <td>-336 days</td>\n",
              "      <td>7392 days</td>\n",
              "    </tr>\n",
              "    <tr>\n",
              "      <th>23</th>\n",
              "      <td>-181 days</td>\n",
              "      <td>3954 days</td>\n",
              "    </tr>\n",
              "    <tr>\n",
              "      <th>24</th>\n",
              "      <td>-474 days</td>\n",
              "      <td>6647 days</td>\n",
              "    </tr>\n",
              "    <tr>\n",
              "      <th>25</th>\n",
              "      <td>-380 days</td>\n",
              "      <td>5501 days</td>\n",
              "    </tr>\n",
              "    <tr>\n",
              "      <th>38</th>\n",
              "      <td>-337 days</td>\n",
              "      <td>6900 days</td>\n",
              "    </tr>\n",
              "    <tr>\n",
              "      <th>41</th>\n",
              "      <td>-599 days</td>\n",
              "      <td>6117 days</td>\n",
              "    </tr>\n",
              "    <tr>\n",
              "      <th>45</th>\n",
              "      <td>-204 days</td>\n",
              "      <td>4194 days</td>\n",
              "    </tr>\n",
              "    <tr>\n",
              "      <th>46</th>\n",
              "      <td>-206 days</td>\n",
              "      <td>7420 days</td>\n",
              "    </tr>\n",
              "    <tr>\n",
              "      <th>77</th>\n",
              "      <td>-645 days</td>\n",
              "      <td>7604 days</td>\n",
              "    </tr>\n",
              "    <tr>\n",
              "      <th>87</th>\n",
              "      <td>-360 days</td>\n",
              "      <td>5041 days</td>\n",
              "    </tr>\n",
              "    <tr>\n",
              "      <th>93</th>\n",
              "      <td>-55 days</td>\n",
              "      <td>6410 days</td>\n",
              "    </tr>\n",
              "    <tr>\n",
              "      <th>95</th>\n",
              "      <td>-635 days</td>\n",
              "      <td>5112 days</td>\n",
              "    </tr>\n",
              "    <tr>\n",
              "      <th>104</th>\n",
              "      <td>-484 days</td>\n",
              "      <td>6575 days</td>\n",
              "    </tr>\n",
              "    <tr>\n",
              "      <th>113</th>\n",
              "      <td>-183 days</td>\n",
              "      <td>5520 days</td>\n",
              "    </tr>\n",
              "    <tr>\n",
              "      <th>118</th>\n",
              "      <td>-210 days</td>\n",
              "      <td>5496 days</td>\n",
              "    </tr>\n",
              "    <tr>\n",
              "      <th>121</th>\n",
              "      <td>-466 days</td>\n",
              "      <td>8324 days</td>\n",
              "    </tr>\n",
              "    <tr>\n",
              "      <th>130</th>\n",
              "      <td>-343 days</td>\n",
              "      <td>4796 days</td>\n",
              "    </tr>\n",
              "    <tr>\n",
              "      <th>147</th>\n",
              "      <td>-311 days</td>\n",
              "      <td>4722 days</td>\n",
              "    </tr>\n",
              "    <tr>\n",
              "      <th>151</th>\n",
              "      <td>-651 days</td>\n",
              "      <td>8351 days</td>\n",
              "    </tr>\n",
              "    <tr>\n",
              "      <th>159</th>\n",
              "      <td>-400 days</td>\n",
              "      <td>7561 days</td>\n",
              "    </tr>\n",
              "    <tr>\n",
              "      <th>179</th>\n",
              "      <td>-511 days</td>\n",
              "      <td>6913 days</td>\n",
              "    </tr>\n",
              "    <tr>\n",
              "      <th>182</th>\n",
              "      <td>-714 days</td>\n",
              "      <td>7776 days</td>\n",
              "    </tr>\n",
              "    <tr>\n",
              "      <th>188</th>\n",
              "      <td>-36 days</td>\n",
              "      <td>6949 days</td>\n",
              "    </tr>\n",
              "    <tr>\n",
              "      <th>189</th>\n",
              "      <td>-664 days</td>\n",
              "      <td>8109 days</td>\n",
              "    </tr>\n",
              "    <tr>\n",
              "      <th>193</th>\n",
              "      <td>-186 days</td>\n",
              "      <td>4796 days</td>\n",
              "    </tr>\n",
              "    <tr>\n",
              "      <th>194</th>\n",
              "      <td>-168 days</td>\n",
              "      <td>5285 days</td>\n",
              "    </tr>\n",
              "    <tr>\n",
              "      <th>195</th>\n",
              "      <td>-1 days</td>\n",
              "      <td>3641 days</td>\n",
              "    </tr>\n",
              "    <tr>\n",
              "      <th>200</th>\n",
              "      <td>83 days</td>\n",
              "      <td>83 days</td>\n",
              "    </tr>\n",
              "    <tr>\n",
              "      <th>203</th>\n",
              "      <td>1805 days</td>\n",
              "      <td>1805 days</td>\n",
              "    </tr>\n",
              "    <tr>\n",
              "      <th>204</th>\n",
              "      <td>1302 days</td>\n",
              "      <td>2871 days</td>\n",
              "    </tr>\n",
              "    <tr>\n",
              "      <th>205</th>\n",
              "      <td>-235 days</td>\n",
              "      <td>2920 days</td>\n",
              "    </tr>\n",
              "  </tbody>\n",
              "</table>\n",
              "</div>"
            ],
            "text/plain": [
              "                 min       max\n",
              "CategoryID                    \n",
              "1          -477 days 6861 days\n",
              "3          -630 days 7040 days\n",
              "4          -918 days 8718 days\n",
              "9          -655 days 8235 days\n",
              "11         -630 days 8266 days\n",
              "13         -139 days 4310 days\n",
              "14         -894 days 7202 days\n",
              "18         -648 days 6550 days\n",
              "19         -203 days 4638 days\n",
              "20         -715 days 8507 days\n",
              "21         -405 days 5852 days\n",
              "22         -336 days 7392 days\n",
              "23         -181 days 3954 days\n",
              "24         -474 days 6647 days\n",
              "25         -380 days 5501 days\n",
              "38         -337 days 6900 days\n",
              "41         -599 days 6117 days\n",
              "45         -204 days 4194 days\n",
              "46         -206 days 7420 days\n",
              "77         -645 days 7604 days\n",
              "87         -360 days 5041 days\n",
              "93          -55 days 6410 days\n",
              "95         -635 days 5112 days\n",
              "104        -484 days 6575 days\n",
              "113        -183 days 5520 days\n",
              "118        -210 days 5496 days\n",
              "121        -466 days 8324 days\n",
              "130        -343 days 4796 days\n",
              "147        -311 days 4722 days\n",
              "151        -651 days 8351 days\n",
              "159        -400 days 7561 days\n",
              "179        -511 days 6913 days\n",
              "182        -714 days 7776 days\n",
              "188         -36 days 6949 days\n",
              "189        -664 days 8109 days\n",
              "193        -186 days 4796 days\n",
              "194        -168 days 5285 days\n",
              "195          -1 days 3641 days\n",
              "200          83 days   83 days\n",
              "203        1805 days 1805 days\n",
              "204        1302 days 2871 days\n",
              "205        -235 days 2920 days"
            ]
          },
          "metadata": {
            "tags": []
          },
          "execution_count": 11
        }
      ]
    },
    {
      "cell_type": "markdown",
      "metadata": {
        "id": "6bpvjD_ZqYg3"
      },
      "source": [
        "Действительно, наш датасет содержит такие записи, причем они присутствуют практически во всех видах споров. Сохраним информацию о них в dataframe **error_dates** и подсчитаем их количество в каждом из судов (~регионов). Выведем для наглядности топ судов с ошибками в датах."
      ]
    },
    {
      "cell_type": "code",
      "metadata": {
        "colab": {
          "base_uri": "https://localhost:8080/",
          "height": 381
        },
        "id": "EtRh2Mqgq_f0",
        "outputId": "eddda339-a3e6-4111-e71b-06e535b62486"
      },
      "source": [
        "error_dates = df[df['StartDate'] > df['FinishDate']]\n",
        "error_regions = error_dates.groupby('CourtID')['CaseID'].agg(['count']).sort_values(by=['count'], ascending=False)\n",
        "error_regions[:10]"
      ],
      "execution_count": null,
      "outputs": [
        {
          "output_type": "execute_result",
          "data": {
            "text/html": [
              "<div>\n",
              "<style scoped>\n",
              "    .dataframe tbody tr th:only-of-type {\n",
              "        vertical-align: middle;\n",
              "    }\n",
              "\n",
              "    .dataframe tbody tr th {\n",
              "        vertical-align: top;\n",
              "    }\n",
              "\n",
              "    .dataframe thead th {\n",
              "        text-align: right;\n",
              "    }\n",
              "</style>\n",
              "<table border=\"1\" class=\"dataframe\">\n",
              "  <thead>\n",
              "    <tr style=\"text-align: right;\">\n",
              "      <th></th>\n",
              "      <th>count</th>\n",
              "    </tr>\n",
              "    <tr>\n",
              "      <th>CourtID</th>\n",
              "      <th></th>\n",
              "    </tr>\n",
              "  </thead>\n",
              "  <tbody>\n",
              "    <tr>\n",
              "      <th>40</th>\n",
              "      <td>1894</td>\n",
              "    </tr>\n",
              "    <tr>\n",
              "      <th>43</th>\n",
              "      <td>737</td>\n",
              "    </tr>\n",
              "    <tr>\n",
              "      <th>65</th>\n",
              "      <td>592</td>\n",
              "    </tr>\n",
              "    <tr>\n",
              "      <th>35</th>\n",
              "      <td>416</td>\n",
              "    </tr>\n",
              "    <tr>\n",
              "      <th>50</th>\n",
              "      <td>384</td>\n",
              "    </tr>\n",
              "    <tr>\n",
              "      <th>78</th>\n",
              "      <td>369</td>\n",
              "    </tr>\n",
              "    <tr>\n",
              "      <th>45</th>\n",
              "      <td>368</td>\n",
              "    </tr>\n",
              "    <tr>\n",
              "      <th>14</th>\n",
              "      <td>345</td>\n",
              "    </tr>\n",
              "    <tr>\n",
              "      <th>33</th>\n",
              "      <td>283</td>\n",
              "    </tr>\n",
              "    <tr>\n",
              "      <th>73</th>\n",
              "      <td>280</td>\n",
              "    </tr>\n",
              "  </tbody>\n",
              "</table>\n",
              "</div>"
            ],
            "text/plain": [
              "         count\n",
              "CourtID       \n",
              "40        1894\n",
              "43         737\n",
              "65         592\n",
              "35         416\n",
              "50         384\n",
              "78         369\n",
              "45         368\n",
              "14         345\n",
              "33         283\n",
              "73         280"
            ]
          },
          "metadata": {
            "tags": []
          },
          "execution_count": 12
        }
      ]
    },
    {
      "cell_type": "markdown",
      "metadata": {
        "id": "N9UMDZEyvhS5"
      },
      "source": [
        "Теперь уберем их из рассмотрения, очистив данные."
      ]
    },
    {
      "cell_type": "code",
      "metadata": {
        "colab": {
          "base_uri": "https://localhost:8080/"
        },
        "id": "-rFUIgsr_0_Q",
        "outputId": "146d98e7-925e-40e8-d9fe-695fe5cc0008"
      },
      "source": [
        "df = df[df['StartDate'] <= df['FinishDate']]\n",
        "len3 = df.shape[0]\n",
        "if (len2 > len3) :\n",
        "  print('Ошибки ввода дат в ', (len2 - len3), ' записях')\n",
        "  print('\\nИтого,', (len2 - len3), ' строк удалены из базы, осталось:', df.shape[0])\n",
        "else :\n",
        "  print('Данные чистые! Во всех делах дата конца больше или совпадает с датой начала')"
      ],
      "execution_count": null,
      "outputs": [
        {
          "output_type": "stream",
          "text": [
            "Ошибки ввода дат в  10911  записях\n",
            "\n",
            "Итого, 10911  строк удалены из базы, осталось: 7178926\n"
          ],
          "name": "stdout"
        }
      ]
    },
    {
      "cell_type": "markdown",
      "metadata": {
        "id": "e9P-oq6vv1sW"
      },
      "source": [
        "Проверим, что функции отработали корректно и больше отрицательных сроков нет:"
      ]
    },
    {
      "cell_type": "code",
      "metadata": {
        "colab": {
          "base_uri": "https://localhost:8080/",
          "height": 1000
        },
        "id": "xEhiN-J3hDek",
        "outputId": "1619b558-a4b7-4a6a-d60c-1e5c6544f7bb"
      },
      "source": [
        "df.groupby('CategoryID')['ConsidTime'].agg(['min', 'max'])"
      ],
      "execution_count": null,
      "outputs": [
        {
          "output_type": "execute_result",
          "data": {
            "text/html": [
              "<div>\n",
              "<style scoped>\n",
              "    .dataframe tbody tr th:only-of-type {\n",
              "        vertical-align: middle;\n",
              "    }\n",
              "\n",
              "    .dataframe tbody tr th {\n",
              "        vertical-align: top;\n",
              "    }\n",
              "\n",
              "    .dataframe thead th {\n",
              "        text-align: right;\n",
              "    }\n",
              "</style>\n",
              "<table border=\"1\" class=\"dataframe\">\n",
              "  <thead>\n",
              "    <tr style=\"text-align: right;\">\n",
              "      <th></th>\n",
              "      <th>min</th>\n",
              "      <th>max</th>\n",
              "    </tr>\n",
              "    <tr>\n",
              "      <th>CategoryID</th>\n",
              "      <th></th>\n",
              "      <th></th>\n",
              "    </tr>\n",
              "  </thead>\n",
              "  <tbody>\n",
              "    <tr>\n",
              "      <th>1</th>\n",
              "      <td>0 days</td>\n",
              "      <td>6861 days</td>\n",
              "    </tr>\n",
              "    <tr>\n",
              "      <th>3</th>\n",
              "      <td>0 days</td>\n",
              "      <td>7040 days</td>\n",
              "    </tr>\n",
              "    <tr>\n",
              "      <th>4</th>\n",
              "      <td>0 days</td>\n",
              "      <td>8718 days</td>\n",
              "    </tr>\n",
              "    <tr>\n",
              "      <th>9</th>\n",
              "      <td>0 days</td>\n",
              "      <td>8235 days</td>\n",
              "    </tr>\n",
              "    <tr>\n",
              "      <th>11</th>\n",
              "      <td>0 days</td>\n",
              "      <td>8266 days</td>\n",
              "    </tr>\n",
              "    <tr>\n",
              "      <th>13</th>\n",
              "      <td>0 days</td>\n",
              "      <td>4310 days</td>\n",
              "    </tr>\n",
              "    <tr>\n",
              "      <th>14</th>\n",
              "      <td>0 days</td>\n",
              "      <td>7202 days</td>\n",
              "    </tr>\n",
              "    <tr>\n",
              "      <th>18</th>\n",
              "      <td>0 days</td>\n",
              "      <td>6550 days</td>\n",
              "    </tr>\n",
              "    <tr>\n",
              "      <th>19</th>\n",
              "      <td>0 days</td>\n",
              "      <td>4638 days</td>\n",
              "    </tr>\n",
              "    <tr>\n",
              "      <th>20</th>\n",
              "      <td>0 days</td>\n",
              "      <td>8507 days</td>\n",
              "    </tr>\n",
              "    <tr>\n",
              "      <th>21</th>\n",
              "      <td>0 days</td>\n",
              "      <td>5852 days</td>\n",
              "    </tr>\n",
              "    <tr>\n",
              "      <th>22</th>\n",
              "      <td>0 days</td>\n",
              "      <td>7392 days</td>\n",
              "    </tr>\n",
              "    <tr>\n",
              "      <th>23</th>\n",
              "      <td>0 days</td>\n",
              "      <td>3954 days</td>\n",
              "    </tr>\n",
              "    <tr>\n",
              "      <th>24</th>\n",
              "      <td>0 days</td>\n",
              "      <td>6647 days</td>\n",
              "    </tr>\n",
              "    <tr>\n",
              "      <th>25</th>\n",
              "      <td>0 days</td>\n",
              "      <td>5501 days</td>\n",
              "    </tr>\n",
              "    <tr>\n",
              "      <th>38</th>\n",
              "      <td>0 days</td>\n",
              "      <td>6900 days</td>\n",
              "    </tr>\n",
              "    <tr>\n",
              "      <th>41</th>\n",
              "      <td>0 days</td>\n",
              "      <td>6117 days</td>\n",
              "    </tr>\n",
              "    <tr>\n",
              "      <th>45</th>\n",
              "      <td>0 days</td>\n",
              "      <td>4194 days</td>\n",
              "    </tr>\n",
              "    <tr>\n",
              "      <th>46</th>\n",
              "      <td>0 days</td>\n",
              "      <td>7420 days</td>\n",
              "    </tr>\n",
              "    <tr>\n",
              "      <th>77</th>\n",
              "      <td>0 days</td>\n",
              "      <td>7604 days</td>\n",
              "    </tr>\n",
              "    <tr>\n",
              "      <th>87</th>\n",
              "      <td>0 days</td>\n",
              "      <td>5041 days</td>\n",
              "    </tr>\n",
              "    <tr>\n",
              "      <th>93</th>\n",
              "      <td>0 days</td>\n",
              "      <td>6410 days</td>\n",
              "    </tr>\n",
              "    <tr>\n",
              "      <th>95</th>\n",
              "      <td>0 days</td>\n",
              "      <td>5112 days</td>\n",
              "    </tr>\n",
              "    <tr>\n",
              "      <th>104</th>\n",
              "      <td>0 days</td>\n",
              "      <td>6575 days</td>\n",
              "    </tr>\n",
              "    <tr>\n",
              "      <th>113</th>\n",
              "      <td>0 days</td>\n",
              "      <td>5520 days</td>\n",
              "    </tr>\n",
              "    <tr>\n",
              "      <th>118</th>\n",
              "      <td>0 days</td>\n",
              "      <td>5496 days</td>\n",
              "    </tr>\n",
              "    <tr>\n",
              "      <th>121</th>\n",
              "      <td>0 days</td>\n",
              "      <td>8324 days</td>\n",
              "    </tr>\n",
              "    <tr>\n",
              "      <th>130</th>\n",
              "      <td>0 days</td>\n",
              "      <td>4796 days</td>\n",
              "    </tr>\n",
              "    <tr>\n",
              "      <th>147</th>\n",
              "      <td>0 days</td>\n",
              "      <td>4722 days</td>\n",
              "    </tr>\n",
              "    <tr>\n",
              "      <th>151</th>\n",
              "      <td>0 days</td>\n",
              "      <td>8351 days</td>\n",
              "    </tr>\n",
              "    <tr>\n",
              "      <th>159</th>\n",
              "      <td>0 days</td>\n",
              "      <td>7561 days</td>\n",
              "    </tr>\n",
              "    <tr>\n",
              "      <th>179</th>\n",
              "      <td>0 days</td>\n",
              "      <td>6913 days</td>\n",
              "    </tr>\n",
              "    <tr>\n",
              "      <th>182</th>\n",
              "      <td>0 days</td>\n",
              "      <td>7776 days</td>\n",
              "    </tr>\n",
              "    <tr>\n",
              "      <th>188</th>\n",
              "      <td>0 days</td>\n",
              "      <td>6949 days</td>\n",
              "    </tr>\n",
              "    <tr>\n",
              "      <th>189</th>\n",
              "      <td>0 days</td>\n",
              "      <td>8109 days</td>\n",
              "    </tr>\n",
              "    <tr>\n",
              "      <th>193</th>\n",
              "      <td>0 days</td>\n",
              "      <td>4796 days</td>\n",
              "    </tr>\n",
              "    <tr>\n",
              "      <th>194</th>\n",
              "      <td>0 days</td>\n",
              "      <td>5285 days</td>\n",
              "    </tr>\n",
              "    <tr>\n",
              "      <th>195</th>\n",
              "      <td>0 days</td>\n",
              "      <td>3641 days</td>\n",
              "    </tr>\n",
              "    <tr>\n",
              "      <th>200</th>\n",
              "      <td>83 days</td>\n",
              "      <td>83 days</td>\n",
              "    </tr>\n",
              "    <tr>\n",
              "      <th>203</th>\n",
              "      <td>1805 days</td>\n",
              "      <td>1805 days</td>\n",
              "    </tr>\n",
              "    <tr>\n",
              "      <th>204</th>\n",
              "      <td>1302 days</td>\n",
              "      <td>2871 days</td>\n",
              "    </tr>\n",
              "    <tr>\n",
              "      <th>205</th>\n",
              "      <td>2 days</td>\n",
              "      <td>2920 days</td>\n",
              "    </tr>\n",
              "  </tbody>\n",
              "</table>\n",
              "</div>"
            ],
            "text/plain": [
              "                 min       max\n",
              "CategoryID                    \n",
              "1             0 days 6861 days\n",
              "3             0 days 7040 days\n",
              "4             0 days 8718 days\n",
              "9             0 days 8235 days\n",
              "11            0 days 8266 days\n",
              "13            0 days 4310 days\n",
              "14            0 days 7202 days\n",
              "18            0 days 6550 days\n",
              "19            0 days 4638 days\n",
              "20            0 days 8507 days\n",
              "21            0 days 5852 days\n",
              "22            0 days 7392 days\n",
              "23            0 days 3954 days\n",
              "24            0 days 6647 days\n",
              "25            0 days 5501 days\n",
              "38            0 days 6900 days\n",
              "41            0 days 6117 days\n",
              "45            0 days 4194 days\n",
              "46            0 days 7420 days\n",
              "77            0 days 7604 days\n",
              "87            0 days 5041 days\n",
              "93            0 days 6410 days\n",
              "95            0 days 5112 days\n",
              "104           0 days 6575 days\n",
              "113           0 days 5520 days\n",
              "118           0 days 5496 days\n",
              "121           0 days 8324 days\n",
              "130           0 days 4796 days\n",
              "147           0 days 4722 days\n",
              "151           0 days 8351 days\n",
              "159           0 days 7561 days\n",
              "179           0 days 6913 days\n",
              "182           0 days 7776 days\n",
              "188           0 days 6949 days\n",
              "189           0 days 8109 days\n",
              "193           0 days 4796 days\n",
              "194           0 days 5285 days\n",
              "195           0 days 3641 days\n",
              "200          83 days   83 days\n",
              "203        1805 days 1805 days\n",
              "204        1302 days 2871 days\n",
              "205           2 days 2920 days"
            ]
          },
          "metadata": {
            "tags": []
          },
          "execution_count": 14
        }
      ]
    },
    {
      "cell_type": "markdown",
      "metadata": {
        "id": "qFf1Lh4BwA6q"
      },
      "source": [
        "**!** Может быть, имеет место и обратное? Ошибки в сроках, связанные с выбросами \"в плюс\", **переполнения по длительности**\n",
        "  > Присутствуют ли в базе такие записи о делах, продолжительность рассмотрения которых не является типичной/допустимой для спора этой категории или подобное? Если да, то действительно ли имел место такой прецедент или в данных есть ошибка?\n",
        "\n",
        "Как видно из группировки по Видам спора ячейкой выше, наибольшая продолжительность рассмотрения одного дела составляет:"
      ]
    },
    {
      "cell_type": "code",
      "metadata": {
        "colab": {
          "base_uri": "https://localhost:8080/"
        },
        "id": "mFwOAggeeRJA",
        "outputId": "98154f23-8be3-425d-828b-309ed0db09ec"
      },
      "source": [
        "max_len = df['ConsidTime'].max().days\n",
        "print(max_len, \"дня\")"
      ],
      "execution_count": null,
      "outputs": [
        {
          "output_type": "stream",
          "text": [
            "8718 дня\n"
          ],
          "name": "stdout"
        }
      ]
    },
    {
      "cell_type": "markdown",
      "metadata": {
        "id": "L1A0wD_heRqI"
      },
      "source": [
        "Как распределены значения величины \"Продолжительность ('ConsidTime')\"? Длинные ли хвосты? Построим **гистограмму**"
      ]
    },
    {
      "cell_type": "code",
      "metadata": {
        "id": "fEOiuwM3YNSP"
      },
      "source": [
        "df['ConsidTime'] = df['ConsidTime'].dt.days"
      ],
      "execution_count": null,
      "outputs": []
    },
    {
      "cell_type": "markdown",
      "metadata": {
        "id": "stOJa7njzErx"
      },
      "source": [
        "**Микровывод:** Распределение со скачками, некоторые пока не выясненные обстоятельства (\"подгон отчетности\" ?) искажают выборку"
      ]
    },
    {
      "cell_type": "code",
      "metadata": {
        "colab": {
          "base_uri": "https://localhost:8080/",
          "height": 381
        },
        "id": "E61KkdYDxR-v",
        "outputId": "fdfde922-8956-4d4f-de1f-5901612329ad"
      },
      "source": [
        "df.groupby('ConsidTime')['ConsidTime'].agg(['count']).sort_values(by='count', ascending=False)[:10]"
      ],
      "execution_count": null,
      "outputs": [
        {
          "output_type": "execute_result",
          "data": {
            "text/html": [
              "<div>\n",
              "<style scoped>\n",
              "    .dataframe tbody tr th:only-of-type {\n",
              "        vertical-align: middle;\n",
              "    }\n",
              "\n",
              "    .dataframe tbody tr th {\n",
              "        vertical-align: top;\n",
              "    }\n",
              "\n",
              "    .dataframe thead th {\n",
              "        text-align: right;\n",
              "    }\n",
              "</style>\n",
              "<table border=\"1\" class=\"dataframe\">\n",
              "  <thead>\n",
              "    <tr style=\"text-align: right;\">\n",
              "      <th></th>\n",
              "      <th>count</th>\n",
              "    </tr>\n",
              "    <tr>\n",
              "      <th>ConsidTime</th>\n",
              "      <th></th>\n",
              "    </tr>\n",
              "  </thead>\n",
              "  <tbody>\n",
              "    <tr>\n",
              "      <th>91</th>\n",
              "      <td>63114</td>\n",
              "    </tr>\n",
              "    <tr>\n",
              "      <th>77</th>\n",
              "      <td>61697</td>\n",
              "    </tr>\n",
              "    <tr>\n",
              "      <th>84</th>\n",
              "      <td>60384</td>\n",
              "    </tr>\n",
              "    <tr>\n",
              "      <th>98</th>\n",
              "      <td>55452</td>\n",
              "    </tr>\n",
              "    <tr>\n",
              "      <th>105</th>\n",
              "      <td>53683</td>\n",
              "    </tr>\n",
              "    <tr>\n",
              "      <th>62</th>\n",
              "      <td>52721</td>\n",
              "    </tr>\n",
              "    <tr>\n",
              "      <th>63</th>\n",
              "      <td>51795</td>\n",
              "    </tr>\n",
              "    <tr>\n",
              "      <th>112</th>\n",
              "      <td>51725</td>\n",
              "    </tr>\n",
              "    <tr>\n",
              "      <th>61</th>\n",
              "      <td>51125</td>\n",
              "    </tr>\n",
              "    <tr>\n",
              "      <th>119</th>\n",
              "      <td>50779</td>\n",
              "    </tr>\n",
              "  </tbody>\n",
              "</table>\n",
              "</div>"
            ],
            "text/plain": [
              "            count\n",
              "ConsidTime       \n",
              "91          63114\n",
              "77          61697\n",
              "84          60384\n",
              "98          55452\n",
              "105         53683\n",
              "62          52721\n",
              "63          51795\n",
              "112         51725\n",
              "61          51125\n",
              "119         50779"
            ]
          },
          "metadata": {
            "tags": []
          },
          "execution_count": 17
        }
      ]
    },
    {
      "cell_type": "code",
      "metadata": {
        "id": "LitBT1OSy6AR"
      },
      "source": [
        "df_dates = df[['StartDate', 'FinishDate', 'ConsidTime', 'CourtID', 'CategoryID']]"
      ],
      "execution_count": null,
      "outputs": []
    },
    {
      "cell_type": "code",
      "metadata": {
        "id": "q-kXzrWvy6Iu"
      },
      "source": [
        "df_dates.to_csv('/content/drive/MyDrive/НУЛ АДП Материалы Марии Тимониной/_data/twenty_years_base/2010_2014_cleaned_dates.csv', index=False)"
      ],
      "execution_count": null,
      "outputs": []
    },
    {
      "cell_type": "code",
      "metadata": {
        "id": "edWe4LeCGkDX"
      },
      "source": [
        "df_sums = df[['CaseID', 'ClaimSum', 'RecoverySum', 'CourtID', 'CategoryID']]\n",
        "df_sums.to_csv('/content/drive/MyDrive/НУЛ АДП Материалы Марии Тимониной/_data/twenty_years_base/2010_2014_cleaned_sums.csv', index=False)"
      ],
      "execution_count": null,
      "outputs": []
    },
    {
      "cell_type": "markdown",
      "metadata": {
        "id": "DSHJeYmjtLpK"
      },
      "source": [
        "## **Общие наблюдения, простейшие визуализации**"
      ]
    },
    {
      "cell_type": "markdown",
      "metadata": {
        "id": "58GpSiBrtvsj"
      },
      "source": [
        "### Функция настройки визуализации **```group_minor_values_and_pie(df, column, type, param)```**"
      ]
    },
    {
      "cell_type": "markdown",
      "metadata": {
        "id": "Op-Ysf9MpvvJ"
      },
      "source": [
        "Предназначена для наглядного изображения круговых диаграмм. \n",
        "\n",
        "Отбирает в столбце таблицы **df** с названием **column**, (передаются в качестве первых двух параметров), содержащем качественный признак, несколько самых часто встречающихся значений. Объединяет строки, не попавшие этот список, в одну группу - \"Другие\".\n",
        "\n",
        "В зависимости от значения параментра **type** порог включения в список отображаемых на диаграмме вычисляется одним из двух способов:\n",
        "\n",
        "1) если **type == 1**, то в **param** передается точное количество самых часто встречающих значений, которое нужно отобразить без обобщения. Реализована проверка на корректность входа (предупреждение о выходе за границы массива);\n",
        "\n",
        "2) иначе вычисляется квантиль уровня **param** (ввести число от 0 до 1 - вероятность)\n",
        "\n",
        "**В планах:** Сделать визуализации более красивыми, настроить цвета и легенду отдельным списом в стороне (например, используя советы отсюда https://blog.algorexhealth.com/2018/03/almost-10-pie-charts-in-10-python-libraries/)"
      ]
    },
    {
      "cell_type": "code",
      "metadata": {
        "id": "mY9MiS-mo4mB"
      },
      "source": [
        "def group_minor_values_and_pie(df, column, type, param):\n",
        "    d = df[column].value_counts()/df.shape[0]\n",
        "    val = \"Пороговое значение\"\n",
        "    if (type == 1) :\n",
        "      if (param > len(d) or param <= 0) :\n",
        "          print(\"Значение параметра больше, чем количество различных значений в таблице!\")\n",
        "          return\n",
        "      pval = d[:param].min()\n",
        "    else :\n",
        "      pval = d.quantile(param)\n",
        "    dtfr = pd.DataFrame(d.values, index=d.index)\n",
        "    dtfr = dtfr[dtfr[0] >= pval]\n",
        "    other_num = 1 - dtfr[0].sum()\n",
        "    dtfr.loc['Другие'] = other_num\n",
        "\n",
        "    cmap = plt.get_cmap('Spectral')\n",
        "    colors = [cmap(i) for i in np.linspace(0, 1, 8)]\n",
        "\n",
        "    fig, ax = plt.subplots()\n",
        "    ax.pie(dtfr.values, labels=dtfr.index, autopct='%1.1f%%', pctdistance=1.15, wedgeprops={'lw':1,'edgecolor':\"k\"}, colors=colors, labeldistance=1.3)\n",
        "    ax.axis(\"equal\");\n",
        "\n",
        "    #plt.title('Диаграмма распределения дел по Видам Споров', fontsize=16)\n",
        "\n",
        "    plt.show();   "
      ],
      "execution_count": null,
      "outputs": []
    },
    {
      "cell_type": "markdown",
      "metadata": {
        "id": "xqATrb00vKnF"
      },
      "source": [
        "### **О судах, фигурирующих в базе**\n",
        "\n",
        "1.  Сколько Судов предоставили информацию о своих делах? \n",
        "2.  Дел из каких судов больше всего? Меньше всего?\n",
        "    > Взять справку у юристов: соответствует ли полученная пропорция статистике по РФ или данные по некоторым судам неполные? Следует ли посчитать их недостаточными для содержательного аналитического заключения и исключить из рассмотрения?"
      ]
    },
    {
      "cell_type": "code",
      "metadata": {
        "id": "vL_enWUtvdQN"
      },
      "source": [
        "courts = len(df['CourtID'].unique())\n",
        "print('1)', 'Различных судов в базе:', courts)\n",
        "\n",
        "print('2)')\n",
        "courts_num = df['CourtID'].value_counts()\n",
        "courts_perc = courts_num \n",
        "\n",
        "print('Суды, дела которых встречаются чаще всего (часть от общего числа дел в %):\\n')\n",
        "top_cperc = pd.DataFrame(df['CourtID'].value_counts() /df.shape[0] * 100)[:5]\n",
        "print(top_cperc)\n",
        "\n",
        "print('\\n\\nКол-во судов, рассмотревших менее 1000 дел в базе:', (df['CourtID'].value_counts() < 1000).sum())\n",
        "bottom_cperc = pd.DataFrame(df['CourtID'].value_counts())[-14:]\n",
        "print(bottom_cperc)"
      ],
      "execution_count": null,
      "outputs": []
    },
    {
      "cell_type": "markdown",
      "metadata": {
        "id": "hMIens2nlvGu"
      },
      "source": [
        "**!** Отметим, что среди всех судов **менее 100 дел предоставили все суды ФАС и ВАС РФ только они**, а менее 1000 еще на 1 суд больше (21 ААС). Предлагается выделить эту группу судов как кандидата на выброс и запросить экспертную оценку у юристов лаборатории."
      ]
    },
    {
      "cell_type": "code",
      "metadata": {
        "id": "x6Miw1TIXsV3"
      },
      "source": [
        "group_minor_values_and_pie(df, 'CourtID', 1, 10)"
      ],
      "execution_count": null,
      "outputs": []
    },
    {
      "cell_type": "markdown",
      "metadata": {
        "id": "Y_gaERfvvb-m"
      },
      "source": [
        "### **О Категориях споров**"
      ]
    },
    {
      "cell_type": "markdown",
      "metadata": {
        "id": "oaRGyY-BnW1e"
      },
      "source": [
        "* Какая доля дел приходится на разные категории? Каких споров больше всего?"
      ]
    },
    {
      "cell_type": "markdown",
      "metadata": {
        "id": "NwAkFG7NhNgQ"
      },
      "source": [
        "![Clipboard 1.jpg](data:image/jpeg;base64,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)"
      ]
    },
    {
      "cell_type": "code",
      "metadata": {
        "id": "KsAoi1uFnT-Y"
      },
      "source": [
        "group_minor_values_and_pie(df, 'CategoryID', 1, 10)"
      ],
      "execution_count": null,
      "outputs": []
    },
    {
      "cell_type": "code",
      "metadata": {
        "id": "U32prTktbY5z"
      },
      "source": [
        "df['CategoryID'].value_counts()"
      ],
      "execution_count": null,
      "outputs": []
    },
    {
      "cell_type": "code",
      "metadata": {
        "id": "n8h8OcXVFYWc"
      },
      "source": [
        "#df.to_csv('/content/drive/MyDrive/НУЛ АДП Материалы Марии Тимониной/ArbitrageCleaned.zip', index=False, compression=dict(method='zip', archive_name='APwithEndDates.csv'))"
      ],
      "execution_count": null,
      "outputs": []
    },
    {
      "cell_type": "markdown",
      "metadata": {
        "id": "H79Vz-GCEvmx"
      },
      "source": [
        "## **Заметки про функции распределения**"
      ]
    },
    {
      "cell_type": "code",
      "metadata": {
        "id": "_jUfvji_QyLx"
      },
      "source": [
        "df_categ1 = df[df['Категория Спора'] == 'О неисполнении или ненадлежащем исполнении обязательств по договорам поставки']\n",
        "\n",
        "df_categ1.head()"
      ],
      "execution_count": null,
      "outputs": []
    },
    {
      "cell_type": "code",
      "metadata": {
        "id": "o3PnVSOVB3AV"
      },
      "source": [
        "from statsmodels.distributions.empirical_distribution import ECDF\n",
        "\n",
        "sample = df_categ1['Продолжительность'].to_numpy(copy=True)\n",
        "sample.sort()"
      ],
      "execution_count": null,
      "outputs": []
    },
    {
      "cell_type": "code",
      "metadata": {
        "id": "6dV44SrFpuf3"
      },
      "source": [
        "plt.hist(df_categ1['Продолжительность'].apply(lambda x: np.log(x + 1)), bins=100);"
      ],
      "execution_count": null,
      "outputs": []
    },
    {
      "cell_type": "code",
      "metadata": {
        "id": "h926T1bbpdc-"
      },
      "source": [
        "ecdf = ECDF(sample)   # строим эмпирическую функцию по выборке\n",
        "\n",
        "plt.step(ecdf.x, ecdf.y)\n",
        "plt.ylabel('$F(x)$', fontsize=20)\n",
        "plt.xlabel('$x$', fontsize=20);"
      ],
      "execution_count": null,
      "outputs": []
    },
    {
      "cell_type": "code",
      "metadata": {
        "id": "SfVVXgxsqbl0"
      },
      "source": [
        "plt.figure(figsize=(10,8))\n",
        "\n",
        "s1 = df_categ1[df_categ1['Начало'] < '2015-02-01']['Продолжительность'].to_numpy(copy=True)\n",
        "ecdf1 = ECDF(s1)\n",
        "plt.step(ecdf1.x, ecdf1.y, label='Январь')\n",
        "\n",
        "s2 = df_categ1[(df_categ1['Начало'] < '2015-03-01') & (df_categ1['Начало'] >= '2015-02-01')]['Продолжительность'].to_numpy(copy=True)\n",
        "ecdf2 = ECDF(s2)\n",
        "plt.step(ecdf2.x, ecdf2.y, label='Февраль')\n",
        "\n",
        "s3 = df_categ1[(df_categ1['Начало'] < '2015-04-01') & (df_categ1['Начало'] >= '2015-03-01')]['Продолжительность'].to_numpy(copy=True)\n",
        "ecdf3 = ECDF(s3)\n",
        "plt.step(ecdf3.x, ecdf3.y, label='Март')\n",
        "\n",
        "plt.legend(loc='best')\n",
        "plt.ylabel('$F(x)$', fontsize=20)\n",
        "plt.xlabel('$x$', fontsize=20);\n",
        "\n"
      ],
      "execution_count": null,
      "outputs": []
    }
  ]
}